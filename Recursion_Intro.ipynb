{
 "cells": [
  {
   "cell_type": "markdown",
   "metadata": {},
   "source": [
    "# Recursion (Introduction)"
   ]
  },
  {
   "cell_type": "markdown",
   "metadata": {},
   "source": [
    "## Problem 1\n",
    "\n",
    "1からnまでの整数を再帰的に (ループやsum()メソッドを使わずに) 計算する関数 **recursiveSum** を定義してください.\n",
    "\n",
    "e.g.)  \n",
    "Input: recursiveSum(10) - Output: 55"
   ]
  },
  {
   "cell_type": "code",
   "execution_count": 2,
   "metadata": {},
   "outputs": [],
   "source": [
    "def recursiveSum(n):\n",
    "    if n == 1:\n",
    "        return n\n",
    "    elif n <= 0:\n",
    "        return n + recursiveSum(n+1)\n",
    "    else:\n",
    "        return n + recursiveSum(n-1)     "
   ]
  },
  {
   "cell_type": "markdown",
   "metadata": {},
   "source": [
    "### Driver Code\n",
    "\n",
    "以下のセルを実行し, 上記で定義した関数をテストしてみましょう.  "
   ]
  },
  {
   "cell_type": "code",
   "execution_count": 3,
   "metadata": {},
   "outputs": [
    {
     "name": "stdout",
     "output_type": "stream",
     "text": [
      "Sum of 1~10: 55\n",
      "Sum of -10~1: -54\n"
     ]
    }
   ],
   "source": [
    "print('Sum of 1~10:', recursiveSum(10))\n",
    "print('Sum of -10~1:', recursiveSum(-10))"
   ]
  },
  {
   "cell_type": "markdown",
   "metadata": {},
   "source": [
    "## Problem 2\n",
    "\n",
    "フィボナッチ数列は, 以下のように, 各項がその直前の2つの項の和となるような数列のことです.  \n",
    "\n",
    "``\n",
    "0, 1, 1, 2, 3, 5, 8, 13, 21, 34, ...\n",
    "``\n",
    "\n",
    "フィボナッチ数列におけるn番目の項の値を求める関数 **fibonacci** を実装してください.\n",
    "\n",
    "e.g.)   \n",
    "Input: fibonacci(10) - Output: 34"
   ]
  },
  {
   "cell_type": "code",
   "execution_count": 4,
   "metadata": {},
   "outputs": [],
   "source": [
    "def fibonacci(n): \n",
    "    if n == 1:\n",
    "        return 0\n",
    "    elif n == 2:\n",
    "        return 1\n",
    "    elif n <= 0:\n",
    "        return \"error\"\n",
    "    else:\n",
    "        return fibonacci(n-1) + fibonacci(n-2)"
   ]
  },
  {
   "cell_type": "markdown",
   "metadata": {},
   "source": [
    "### Driver Code\n",
    "\n",
    "以下のセルを実行し, 上記で定義した関数をテストしてみましょう.  "
   ]
  },
  {
   "cell_type": "code",
   "execution_count": 5,
   "metadata": {},
   "outputs": [
    {
     "name": "stdout",
     "output_type": "stream",
     "text": [
      "n = 10: 34\n",
      "n = -1: error\n"
     ]
    }
   ],
   "source": [
    "print('n = 10:', fibonacci(10))\n",
    "print('n = -1:', fibonacci(-1))\n",
    "#print('n = 100:', fibonacci(100))     # Warning: Be careful to run this line."
   ]
  },
  {
   "cell_type": "code",
   "execution_count": null,
   "metadata": {},
   "outputs": [],
   "source": []
  }
 ],
 "metadata": {
  "kernelspec": {
   "display_name": "Python 3",
   "language": "python",
   "name": "python3"
  },
  "language_info": {
   "codemirror_mode": {
    "name": "ipython",
    "version": 3
   },
   "file_extension": ".py",
   "mimetype": "text/x-python",
   "name": "python",
   "nbconvert_exporter": "python",
   "pygments_lexer": "ipython3",
   "version": "3.7.4"
  }
 },
 "nbformat": 4,
 "nbformat_minor": 2
}
