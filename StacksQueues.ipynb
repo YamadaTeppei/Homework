{
 "cells": [
  {
   "cell_type": "markdown",
   "metadata": {},
   "source": [
    "# Stack & Queue"
   ]
  },
  {
   "cell_type": "markdown",
   "metadata": {},
   "source": [
    "## 1. Pythonのリストを用いて**Stack**クラスと**Queue**クラスを実装してみましょう."
   ]
  },
  {
   "cell_type": "markdown",
   "metadata": {},
   "source": [
    "### Stack Class"
   ]
  },
  {
   "cell_type": "code",
   "execution_count": 11,
   "metadata": {},
   "outputs": [],
   "source": [
    "class Stack:\n",
    "\n",
    "    def __init__(self):\n",
    "        self.stack = []\n",
    "        \n",
    "    def push(self,x):\n",
    "        self.stack.append(x)\n",
    "\n",
    "    def pop(self):\n",
    "        x = self.stack[-1]\n",
    "        self.stack.remove(x)\n",
    "        return x                              #  return self.stack.pop()\n",
    "        \n",
    "    def peek(self):\n",
    "        return self.stack[-1]\n",
    "\n",
    "    def size(self):\n",
    "        return len(self.stack)"
   ]
  },
  {
   "cell_type": "markdown",
   "metadata": {},
   "source": [
    "### Driver Code\n",
    "\n",
    "上で定義したクラスのインスタンスを生成し, 各メソッドをテストしてみましょう."
   ]
  },
  {
   "cell_type": "code",
   "execution_count": 10,
   "metadata": {},
   "outputs": [
    {
     "name": "stdout",
     "output_type": "stream",
     "text": [
      "[4, 2, 7]\n",
      "size(): 3\n",
      "peek(): 7\n",
      "pop(): 7\n",
      "[4, 2]\n"
     ]
    }
   ],
   "source": [
    "stack = Stack()\n",
    "stack.push(4)\n",
    "stack.push(2)\n",
    "stack.push(7)\n",
    "print(stack.stack)\n",
    "print('size():', stack.size())\n",
    "print('peek():', stack.peek())\n",
    "print('pop():', stack.pop())\n",
    "print(stack.stack)"
   ]
  },
  {
   "cell_type": "markdown",
   "metadata": {},
   "source": [
    "### Queue Class"
   ]
  },
  {
   "cell_type": "code",
   "execution_count": 14,
   "metadata": {},
   "outputs": [],
   "source": [
    "class Queue:\n",
    "\n",
    "    def __init__(self):\n",
    "        self.queue = []\n",
    "\n",
    "    def enqueue(self,x):\n",
    "        self.queue.append(x)\n",
    "\n",
    "    def dequeue(self):\n",
    "        x = self.queue[0]\n",
    "        self.queue.remove(x)\n",
    "        return x                                 #  return self.queue.pop(0)\n",
    "\n",
    "    def size(self):\n",
    "        return len(self.queue)"
   ]
  },
  {
   "cell_type": "markdown",
   "metadata": {},
   "source": [
    "### Driver Code\n",
    "\n",
    "上で定義したクラスのインスタンスを生成し, 各メソッドをテストしてみましょう."
   ]
  },
  {
   "cell_type": "code",
   "execution_count": 16,
   "metadata": {},
   "outputs": [
    {
     "name": "stdout",
     "output_type": "stream",
     "text": [
      "[4, 2, 7]\n",
      "size(): 3\n",
      "pop(): 4\n",
      "[2, 7]\n"
     ]
    }
   ],
   "source": [
    "queue = Queue()\n",
    "queue.enqueue(4)\n",
    "queue.enqueue(2)\n",
    "queue.enqueue(7)\n",
    "print(queue.queue)\n",
    "print('size():', queue.size())\n",
    "print('pop():', queue.dequeue())\n",
    "print(queue.queue)"
   ]
  },
  {
   "cell_type": "markdown",
   "metadata": {},
   "source": [
    "## 2. Reversed Polish Notation (逆ポーランド記法)\n",
    "\n",
    "計算式が逆ポーランド記法で与えられたときに, その式の計算結果を返す関数 `RPN` を定義してください.  \n",
    "*ヒント: 下記のラムダ関数を含んだディクショナリー **operators** を上手く用いると比較的簡潔な実装が可能です.*\n",
    "\n",
    "e.g.)  \n",
    "Input#1: '1 2 +'  \n",
    "Output#1: 3  \n",
    "Input#2: '4 2 5 * +'  \n",
    "Output#2: 14"
   ]
  },
  {
   "cell_type": "code",
   "execution_count": 40,
   "metadata": {},
   "outputs": [],
   "source": [
    "operators = {\n",
    "    '+': lambda a, b: a + b,\n",
    "    '-': lambda a, b: a - b,\n",
    "    '*': lambda a, b: a * b,\n",
    "    '/': lambda a, b: a / b\n",
    "}"
   ]
  },
  {
   "cell_type": "code",
   "execution_count": 3,
   "metadata": {},
   "outputs": [],
   "source": [
    "def RPN(states):\n",
    "    operators = {\n",
    "    '+': lambda a, b: a + b,\n",
    "    '-': lambda a, b: a - b,\n",
    "    '*': lambda a, b: a * b,\n",
    "    '/': lambda a, b: a / b\n",
    "}\n",
    "    stack = []\n",
    "    #print('RPN: %s' % states)\n",
    "    for index, z  in enumerate(states):\n",
    "        #if index > 0:\n",
    "        #print(stack)\n",
    "        if z == ' ':\n",
    "            continue\n",
    "        elif z not in operators.keys():\n",
    "            stack.append(int(z))\n",
    "            continue\n",
    "        y = stack.pop()\n",
    "        x = stack.pop()\n",
    "        stack.append(operators[z](x, y))\n",
    "        #print('%s %s %s =' % (x, z, y))\n",
    "    #print(stack[0])\n",
    "    return stack[0]\n",
    "\n",
    "\n"
   ]
  },
  {
   "cell_type": "markdown",
   "metadata": {},
   "source": [
    "### Driver Code\n",
    "\n",
    "以下のコードを実行して, 上で定義した関数をテストしてみましょう."
   ]
  },
  {
   "cell_type": "code",
   "execution_count": 4,
   "metadata": {},
   "outputs": [
    {
     "name": "stdout",
     "output_type": "stream",
     "text": [
      "[]\n",
      "[1]\n",
      "[1]\n",
      "[1, 2]\n",
      "[1, 2]\n",
      "3\n",
      "[]\n",
      "[4]\n",
      "[4]\n",
      "[4, 2]\n",
      "[4, 2]\n",
      "[4, 2, 5]\n",
      "[4, 2, 5]\n",
      "[4, 10]\n",
      "[4, 10]\n",
      "14\n",
      "[]\n",
      "[1]\n",
      "[1]\n",
      "[1, 3]\n",
      "[1, 3]\n",
      "[4]\n",
      "[4]\n",
      "[4, 4]\n",
      "[4, 4]\n",
      "[16]\n",
      "[16]\n",
      "[16, 1]\n",
      "[16, 1, 0]\n",
      "[16, 1, 0]\n",
      "[16, 1, 0, 6]\n",
      "[16, 1, 0, 6]\n",
      "[16, 1, 0]\n",
      "[16, 1, 0]\n",
      "16\n"
     ]
    }
   ],
   "source": [
    "print(RPN('1 2 +'))  #1+2\n",
    "print(RPN('4 2 5 * +')) #4+2*5\n",
    "print(RPN('1 3 + 4 * 10 6 * -'))     # Should output -44  1+3*4-10*6"
   ]
  },
  {
   "cell_type": "code",
   "execution_count": null,
   "metadata": {},
   "outputs": [],
   "source": []
  }
 ],
 "metadata": {
  "kernelspec": {
   "display_name": "Python 3",
   "language": "python",
   "name": "python3"
  },
  "language_info": {
   "codemirror_mode": {
    "name": "ipython",
    "version": 3
   },
   "file_extension": ".py",
   "mimetype": "text/x-python",
   "name": "python",
   "nbconvert_exporter": "python",
   "pygments_lexer": "ipython3",
   "version": "3.7.4"
  }
 },
 "nbformat": 4,
 "nbformat_minor": 2
}
