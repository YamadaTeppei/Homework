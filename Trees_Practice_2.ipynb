{
 "cells": [
  {
   "cell_type": "markdown",
   "metadata": {},
   "source": [
    "## Problem 4 - Applications of Tree Structure\n",
    "\n",
    "それでは実際に木構造を用いて様々な問題を解いてみましょう. 各問題では下記の **Node** クラスを用いてください."
   ]
  },
  {
   "cell_type": "code",
   "execution_count": 8,
   "metadata": {},
   "outputs": [],
   "source": [
    "class Node:\n",
    "    def __init__(self, val):\n",
    "        self.val   = val\n",
    "        self.left  = None\n",
    "        self.right = None"
   ]
  },
  {
   "cell_type": "markdown",
   "metadata": {},
   "source": [
    "### Path Count\n",
    "\n",
    "根ノードから葉ノードまでの全ての **Path(道)** をカウントし, その合計を返す関数 **getPathCount** を定義してください.   "
   ]
  },
  {
   "cell_type": "code",
   "execution_count": 13,
   "metadata": {},
   "outputs": [],
   "source": [
    "def getPathCount(root):\n",
    "    if root:\n",
    "        if root.left is None and root.right is None:\n",
    "            return  1 \n",
    "        return  getPathCount(root.left) + getPathCount(root.right)\n",
    "    return 0"
   ]
  },
  {
   "cell_type": "markdown",
   "metadata": {},
   "source": [
    "#### Driver Code\n",
    "\n",
    "それでは以下のセルを実行して, 上記で定義した関数をテストしてみましょう."
   ]
  },
  {
   "cell_type": "code",
   "execution_count": 14,
   "metadata": {},
   "outputs": [
    {
     "name": "stdout",
     "output_type": "stream",
     "text": [
      "3\n"
     ]
    }
   ],
   "source": [
    "# Create binary tree using Node class\n",
    "root = Node(2)\n",
    "root.left = Node(3)\n",
    "root.right = Node(4)\n",
    "root.left.left = Node(8)\n",
    "root.right.left = Node(1)\n",
    "root.right.right = Node(0)\n",
    "\n",
    "print(getPathCount(root))"
   ]
  },
  {
   "cell_type": "markdown",
   "metadata": {},
   "source": [
    "上記からも分かるように, 木構造において **根ノードから葉ノードまでの道の数は, 葉ノードの数に等しくなっています**.  \n",
    "これは, 木構造においてはサイクルがなく, 複数の親を持つノードが存在しないためです.  \n",
    "\n",
    "それでは, 上記の **getPathCount** を少し改変して, 葉ノードの値の合計 (数値のみを格納する木構造と仮定します) を計算する関数 **calcSumOfLeaves** を定義してみましょう."
   ]
  },
  {
   "cell_type": "code",
   "execution_count": 15,
   "metadata": {},
   "outputs": [],
   "source": [
    "def calcSumOfLeaves(root):\n",
    "    if root:\n",
    "        if root.left is None and root.right is None:\n",
    "            return root.val\n",
    "        return calcSumOfLeaves(root.left) + calcSumOfLeaves(root.right)\n",
    "    return 0"
   ]
  },
  {
   "cell_type": "markdown",
   "metadata": {},
   "source": [
    "#### Driver Code\n",
    "\n",
    "それでは以下のセルを実行して, 上記で定義した関数をテストしてみましょう."
   ]
  },
  {
   "cell_type": "code",
   "execution_count": 16,
   "metadata": {},
   "outputs": [
    {
     "name": "stdout",
     "output_type": "stream",
     "text": [
      "9\n"
     ]
    }
   ],
   "source": [
    "# Create binary tree using Node class\n",
    "root = Node(2)\n",
    "root.left = Node(3)\n",
    "root.right = Node(4)\n",
    "root.left.left = Node(8)\n",
    "root.right.left = Node(1)\n",
    "root.right.right = Node(0)\n",
    "\n",
    "print(calcSumOfLeaves(root))"
   ]
  },
  {
   "cell_type": "markdown",
   "metadata": {},
   "source": [
    "### Non-Empty Universal Value Tree Problem\n",
    "\n",
    "全てのノードが同一の値を持っている木のことを **Universal Value Tree / Single Valued Tree** と呼びます.  \n",
    "それ自身と自身の持つ部分木を全て含めて, 木構造中の Universal Value Tree の数をカウントしてそれを返す関数を, 以下の指示に従って定義してください.  "
   ]
  },
  {
   "cell_type": "markdown",
   "metadata": {},
   "source": [
    "#### Method #1: O(n^2)\n",
    "\n",
    "以下の2つの関数を定義して, 問題を解いてみましょう.  \n",
    "\n",
    "1. **isUniVal()**  \n",
    "    与えられたノードを根ノードとしたときに, それ以下が **Uni Val Tree** になっているかを再帰的に判別する関数\n",
    "    \n",
    "2. **countUniVals()**  \n",
    "    与えられたノードを根ノードとしたときに,  **isUniVal()** を用いてそれ以下に含まれる **Uni Val Tree** の数を再帰的に計算する関数"
   ]
  },
  {
   "cell_type": "code",
   "execution_count": 3,
   "metadata": {},
   "outputs": [],
   "source": [
    "# Determine if the given tree is an universal value tree\n",
    "def isUniVal(root):\n",
    "    if root:\n",
    "        if root.left: \n",
    "             if root.val != root.left.val:\n",
    "                    return False\n",
    "        if root.right:\n",
    "            if root.val != root.right.val:\n",
    "                return False\n",
    "        if isUniVal(root.left) * isUniVal(root.right) == 0:\n",
    "            return True\n",
    "        else:\n",
    "            return False\n",
    "    return True\n",
    "\n",
    "# Recursively calculate the number of universal value (sub)trees\n",
    "def countUniVals(root):\n",
    "    if root:\n",
    "        Sum = countUniVals(root.left) + countUniVals(root.right)\n",
    "        if isUniVal(root) is True:\n",
    "            return 1\n",
    "        return Sum\n",
    "    return 0"
   ]
  },
  {
   "cell_type": "markdown",
   "metadata": {},
   "source": [
    "#### Method #2: O(n)\n",
    "\n",
    "Method #1は, 計算量の観点からみてあまり理想的ではありません. 同じ問題を **O(n)** で解くような関数 **countUniValsNew** を定義してください. "
   ]
  },
  {
   "cell_type": "code",
   "execution_count": 5,
   "metadata": {},
   "outputs": [],
   "source": [
    "def countUniValsNew(root):\n",
    "    if root:\n",
    "        Sum = countUniValsNew(root.left) + countUniValsNew(root.right)\n",
    "        if root.left and root.right:\n",
    "            if root.left.val == root.val and root.right.val == root.val:\n",
    "                return 1\n",
    "        elif root.left:\n",
    "            if root.left.val == root.val:\n",
    "                return 1 \n",
    "        elif root.right:\n",
    "            if root.right.val == root.val:\n",
    "                return 1 \n",
    "        else:\n",
    "            return 0\n",
    "        return Sum\n",
    "    return 0"
   ]
  },
  {
   "cell_type": "code",
   "execution_count": 6,
   "metadata": {},
   "outputs": [],
   "source": [
    "def print_Node(root):\n",
    "    if root:\n",
    "        \n",
    "        print_Node(root.left)\n",
    "       \n",
    "        print_Node(root.right)\n",
    "        print(root.val)"
   ]
  },
  {
   "cell_type": "markdown",
   "metadata": {},
   "source": [
    "#### Driver Code\n",
    "\n",
    "それでは, 実際に以下のような木構造をNodeクラスを用いて表現し, 上記で定義したMethod#1/2をテストしてみましょう.  \n",
    "\n",
    "[ [ [None, 1, None], 1, None ] 1, [ [None, 2, None], 2, [None, 2, None] ] ]"
   ]
  },
  {
   "cell_type": "code",
   "execution_count": 9,
   "metadata": {},
   "outputs": [
    {
     "name": "stdout",
     "output_type": "stream",
     "text": [
      "False\n",
      "0\n",
      "\n",
      "0\n",
      "\n",
      "1\n",
      "2\n",
      "2\n",
      "2\n",
      "1\n",
      "1\n"
     ]
    }
   ],
   "source": [
    "root = Node(1)\n",
    "root.left = Node(2)\n",
    "root.right = Node(1)\n",
    "root.left.left = Node(1)\n",
    "root.right.left = Node(2)\n",
    "root.right.right = Node(2)\n",
    "print(isUniVal(root))\n",
    "print(countUniVals(root))\n",
    "print()\n",
    "print(countUniValsNew(root))\n",
    "print()\n",
    "print_Node(root)"
   ]
  },
  {
   "cell_type": "code",
   "execution_count": null,
   "metadata": {},
   "outputs": [],
   "source": []
  }
 ],
 "metadata": {
  "kernelspec": {
   "display_name": "Python 3",
   "language": "python",
   "name": "python3"
  },
  "language_info": {
   "codemirror_mode": {
    "name": "ipython",
    "version": 3
   },
   "file_extension": ".py",
   "mimetype": "text/x-python",
   "name": "python",
   "nbconvert_exporter": "python",
   "pygments_lexer": "ipython3",
   "version": "3.7.4"
  }
 },
 "nbformat": 4,
 "nbformat_minor": 2
}
