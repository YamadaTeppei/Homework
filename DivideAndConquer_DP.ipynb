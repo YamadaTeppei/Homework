{
 "cells": [
  {
   "cell_type": "markdown",
   "metadata": {},
   "source": [
    "# 分割統治法 (Divide & Conquer) と動的計画法 (DP)"
   ]
  },
  {
   "cell_type": "markdown",
   "metadata": {},
   "source": [
    "## Problem 1 (分割統治法)\n",
    "\n",
    "リストが与えられたとき, リスト内のソートされていない要素の組み合わせの個数を返す関数 **countInversions** を定義してください.  \n",
    "まずは, 単純に全ての組み合わせを確かめる O(n^2) の関数を, 次に分割統治法の考えを元に O(nlogn) で問題を解く関数をそれぞれ定義してください. \n",
    "\n",
    "e.g.)  \n",
    "Input: [2, 4, 0, 3, 5] - Output: 3"
   ]
  },
  {
   "cell_type": "code",
   "execution_count": 1,
   "metadata": {},
   "outputs": [],
   "source": [
    "# Brute force method: O(n^2)\n",
    "def countInversions_1(lst):\n",
    "    count = 0\n",
    "    for i in range(len(lst)):\n",
    "        for j in range(i+1,len(lst)):\n",
    "            if lst[i] > lst[j] :\n",
    "                count += 1\n",
    "    return count"
   ]
  },
  {
   "cell_type": "code",
   "execution_count": 2,
   "metadata": {},
   "outputs": [],
   "source": [
    "# Divide and Conquer method: O(nlogn)\n",
    "def countInversions_2(lst):\n",
    "    if len(lst) > 1:\n",
    "        mid = len(lst) // 2\n",
    "        left = lst[:mid]\n",
    "        right = lst[mid:]\n",
    "        \n",
    "        countInversions_2(left)\n",
    "        countInversions_2(right)\n",
    "        \n",
    "        i,j,k = 0,0,0\n",
    "        count = 0\n",
    "        while i < len(left) and j < len(right):\n",
    "            if left[i] <= right[j]:\n",
    "                lst[k] = left[i]\n",
    "                i += 1\n",
    "            else:\n",
    "                lst[k] = right[j]\n",
    "                count += 1\n",
    "                j += 1\n",
    "            k += 1\n",
    "        while i < len(left):\n",
    "            lst[k] = left[i]\n",
    "            i += 1\n",
    "            k += 1\n",
    "        while j < len(right):\n",
    "            lst[k] = right[j]\n",
    "            count += 1\n",
    "            j += 1\n",
    "            k += 1\n",
    "        return (lst,count)"
   ]
  },
  {
   "cell_type": "markdown",
   "metadata": {},
   "source": [
    "### Driver Code\n",
    "\n",
    "それでは, 上記の関数を以下のコードでテストしてみましょう."
   ]
  },
  {
   "cell_type": "code",
   "execution_count": 3,
   "metadata": {},
   "outputs": [
    {
     "name": "stdout",
     "output_type": "stream",
     "text": [
      "Method #1 (Brute force):\n",
      "lst1: 3\n",
      "lst2: 6\n",
      "Method #2 (Divide and conquer):\n",
      "lst1: ([0, 2, 3, 4, 5], 3)\n",
      "lst2: ([0, 2, 4, 7, 10, 11], 3)\n"
     ]
    }
   ],
   "source": [
    "lst1 = [2, 4, 0, 3, 5]\n",
    "lst2 = [11, 0, 4, 2, 7, 10]\n",
    "\n",
    "print('Method #1 (Brute force):')\n",
    "print('lst1:', countInversions_1(lst1))\n",
    "print('lst2:', countInversions_1(lst2))\n",
    "print('Method #2 (Divide and conquer):')\n",
    "print('lst1:', countInversions_2(lst1))\n",
    "print('lst2:', countInversions_2(lst2))"
   ]
  },
  {
   "cell_type": "markdown",
   "metadata": {},
   "source": [
    "## Problem 2 (動的計画法)\n",
    "\n",
    "フィボナッチ数列は, 以下のように, 各項がその直前の2つの項の和となるような数列のことです.  \n",
    "\n",
    "``\n",
    "0, 1, 1, 2, 3, 5, 8, 13, 21, 34, ...\n",
    "``\n",
    "\n",
    "フィボナッチ数列におけるn番目の項の値を求める関数 **fibonacci** を実装してください.   \n",
    "ただし, 計算量の観点から, 以下の2つの動的計画法のアプローチを用いて, それぞれ実装を行なってください.  \n",
    "\n",
    "1. トップダウンアプローチ(メモ化)\n",
    "2. ボトムアップアプローチ(部分問題から解く)\n",
    "\n",
    "e.g.)   \n",
    "Input: fibonacci(10) - Output: 34"
   ]
  },
  {
   "cell_type": "code",
   "execution_count": 4,
   "metadata": {},
   "outputs": [],
   "source": [
    "# Normal recursion\n",
    "def fibonacci(n):\n",
    "    if n == 1:\n",
    "        return 0\n",
    "    if n == 2:\n",
    "        return 1\n",
    "    return fibonacci(n-1) + fibonacci(n-2)"
   ]
  },
  {
   "cell_type": "code",
   "execution_count": 5,
   "metadata": {},
   "outputs": [],
   "source": [
    "# Top-down approach (memoization)\n",
    "def fibonacci_1(n,fibNums={1: 0, 2: 1}):\n",
    "    if n in fibNums:\n",
    "        return fibNums[n]\n",
    "    else:\n",
    "        fibNums[n] = fibonacci_1(n-1,fibNums) + fibonacci_1(n-2,fibNums)\n",
    "        return fibNums[n]\n",
    "    "
   ]
  },
  {
   "cell_type": "code",
   "execution_count": 6,
   "metadata": {},
   "outputs": [],
   "source": [
    "# Bottom-up approach (tabulation)\n",
    "def fibonacci_2(n):\n",
    "        if n == 1:\n",
    "            return 0\n",
    "        if n == 2:\n",
    "            return 1\n",
    "        else:\n",
    "            fib_1 = 0\n",
    "            fib_2 = 1\n",
    "            for i in range(n-2):\n",
    "                a = fib_2\n",
    "                fib_2 += fib_1\n",
    "                fib_1 = a\n",
    "            return fib_2"
   ]
  },
  {
   "cell_type": "code",
   "execution_count": 7,
   "metadata": {},
   "outputs": [],
   "source": [
    "def fibonacci_3(n):\n",
    "    if n <= 0:\n",
    "        return \"Invalid Input N. N should be more than 0.\"\n",
    "    elif n == 1:\n",
    "        return 0\n",
    "    elif n == 2:\n",
    "        return 1\n",
    "    else:\n",
    "        a, b = 0, 1\n",
    "        for i in range(n-2):\n",
    "            a, b = b, a+b\n",
    "        return b\n"
   ]
  },
  {
   "cell_type": "markdown",
   "metadata": {},
   "source": [
    "### Driver Code\n",
    "\n",
    "それでは, 上記の関数を以下のコードでテストしてみましょう."
   ]
  },
  {
   "cell_type": "code",
   "execution_count": 8,
   "metadata": {},
   "outputs": [
    {
     "name": "stdout",
     "output_type": "stream",
     "text": [
      "514229\n",
      "time: 0.25774383544921875\n",
      "514229\n",
      "time: 0.00017523765563964844\n",
      "514229\n",
      "time: 0.00011610984802246094\n"
     ]
    }
   ],
   "source": [
    "import time\n",
    "\n",
    "start = time.time()\n",
    "print(fibonacci(30))\n",
    "end = time.time()\n",
    "print('time:', end - start)\n",
    "start = time.time()\n",
    "print(fibonacci_1(30))\n",
    "end = time.time()\n",
    "print('time:', end - start)\n",
    "start = time.time()\n",
    "print(fibonacci_2(30))\n",
    "end = time.time()\n",
    "print('time:', end - start)"
   ]
  },
  {
   "cell_type": "markdown",
   "metadata": {},
   "source": [
    "## Problem 3 (動的計画法)\n",
    "\n",
    "2つの文字列が与えられたとき, その文字列が共通して持つ部分文字列の中で, 最長のものの長さを返す関数 **findLCS** を定義してください.  \n",
    "ただし, 通常の再帰を用いる O(2^n) で実行可能な関数と, 動的計画法を用いる O(mn) で実行可能な関数の両方を定義してください (m, nはそれぞれの文字列の長さとする).  \n",
    "\n",
    "e.g.)  \n",
    "Input: \"afftqag\", \"fxtamlg\" - Output: 4 (\"ftag\")"
   ]
  },
  {
   "cell_type": "code",
   "execution_count": 9,
   "metadata": {},
   "outputs": [],
   "source": [
    "# Naive recursion: O(2^n)\n",
    "def findLCS_1(Str1,Str2,n1,n2):\n",
    "    if n1 < 0:\n",
    "        return \"\"\n",
    "    \n",
    "    for i in range(n2,-1,-1):\n",
    "        if Str1[n1] == Str2[i]:\n",
    "            #　n2にi-1を入れる事により次の再帰でStr2の最後に返した要素の一つ手前の要素からfor文を始めることができる\n",
    "            return findLCS_1(Str1,Str2,n1-1,i-1) + Str1[n1] \n",
    "        \n",
    "    return findLCS_1(Str1,Str2,n1-1,n2)"
   ]
  },
  {
   "cell_type": "code",
   "execution_count": 10,
   "metadata": {},
   "outputs": [],
   "source": [
    "# Tabulated recursion: O(mn)\n",
    "def findLCS_2(Str1,Str2):\n",
    "    Str3 = \"\"\n",
    "    n = len(Str2) - 1\n",
    "    for i in range(len(Str1)-1,-1,-1):\n",
    "        for j in range(n,-1,-1):\n",
    "            if Str1[i] is Str2[j]:\n",
    "                Str3 = Str1[i] + Str3\n",
    "                n = j - 1\n",
    "                # breakを入れないと同じ文字が複数回使われていた時に一番最後に処理したの文字でプログラムを進めていく事になってしまう\n",
    "                break\n",
    "    return Str3"
   ]
  },
  {
   "cell_type": "markdown",
   "metadata": {},
   "source": [
    "### Driver Code\n",
    "\n",
    "それでは, 上記の関数を以下のコードでテストしてみましょう."
   ]
  },
  {
   "cell_type": "code",
   "execution_count": 11,
   "metadata": {},
   "outputs": [
    {
     "name": "stdout",
     "output_type": "stream",
     "text": [
      "ftag\n"
     ]
    }
   ],
   "source": [
    "print(findLCS_1(\"afftqag\", \"fxtamlg\", len(\"afftqag\")-1, len(\"fxtamlg\")-1))\n",
    "print(findLCS_2(\"afftqag\", \"fxtamlg\"))"
   ]
  },
  {
   "cell_type": "code",
   "execution_count": null,
   "metadata": {},
   "outputs": [],
   "source": []
  }
 ],
 "metadata": {
  "kernelspec": {
   "display_name": "Python 3",
   "language": "python",
   "name": "python3"
  },
  "language_info": {
   "codemirror_mode": {
    "name": "ipython",
    "version": 3
   },
   "file_extension": ".py",
   "mimetype": "text/x-python",
   "name": "python",
   "nbconvert_exporter": "python",
   "pygments_lexer": "ipython3",
   "version": "3.7.4"
  }
 },
 "nbformat": 4,
 "nbformat_minor": 2
}
