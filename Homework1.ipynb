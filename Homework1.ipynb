{
 "cells": [
  {
   "cell_type": "markdown",
   "metadata": {},
   "source": [
    "# Homework #1 (Functions and Scoping)\n",
    "\n",
    "### データ型・演算子・変数・定数・関数についての理解を深める"
   ]
  },
  {
   "cell_type": "markdown",
   "metadata": {},
   "source": [
    "### Problem 1\n",
    "\n",
    "次の二次方程式を解く関数 **QuadraticFunction** を定義し, 以下の値を代入して正常に動くか確かめてみてください.\n",
    "\n",
    "\n",
    "$$ 3x^2 + 18x + 293 $$\n",
    "\n",
    "\n",
    "e.g.) QuadraticFunction(3) --> 374, QuadraticFunction(-19) --> 1034"
   ]
  },
  {
   "cell_type": "code",
   "execution_count": 2,
   "metadata": {},
   "outputs": [
    {
     "name": "stdout",
     "output_type": "stream",
     "text": [
      "374\n",
      "1034\n"
     ]
    }
   ],
   "source": [
    "def QuadraticFunction(x):\n",
    "    return 3 * x ** 2 + 18 * x + 293 # 2 * x\n",
    "\n",
    "a = QuadraticFunction(3)  # 1893\n",
    "print(a)\n",
    "\n",
    "a = QuadraticFunction(-19)  # 1893\n",
    "print(a)"
   ]
  },
  {
   "cell_type": "markdown",
   "metadata": {},
   "source": [
    "### Problem 2\n",
    "\n",
    "ドルと円を変換する関数をそれぞれ(ドル --> 円, 円 --> ドル)定義してください (ただし, $1 = ¥110 とします).  \n",
    "また, 上記の関数を呼び出す際には, ユーザーからインプットを受け取り, それを元に変換を行ってください.\n",
    "\n",
    "ヒント1: ユーザーからインプットを受け取るには **input()** メソッドを使用します (https://www.w3schools.com/python/ref_func_input.asp).  \n",
    "ヒント2: input()メソッドの戻り値は文字列であること, お金は整数でなければならないことに注意してください."
   ]
  },
  {
   "cell_type": "code",
   "execution_count": 4,
   "metadata": {},
   "outputs": [
    {
     "name": "stdout",
     "output_type": "stream",
     "text": [
      "Mony types $or¥$\n",
      "How many1\n",
      "110.0\n"
     ]
    }
   ],
   "source": [
    "def dToY(c):\n",
    "    return c * 110\n",
    "\n",
    "def yToD(c):\n",
    "    return c / 110\n",
    "\n",
    "a = input(\"Mony types $or¥\")\n",
    "c = input(\"How many\")\n",
    "c = float(c)\n",
    "\n",
    "if  a == \"$\":\n",
    "    print(dToY(c))\n",
    "    \n",
    "else:\n",
    "    print(yToD(c))\n"
   ]
  },
  {
   "cell_type": "markdown",
   "metadata": {},
   "source": [
    "### Problem 3 (MIT 6.0001 \"Introduction to Computer Science and Programming in Python\"より抜粋)\n",
    "\n",
    "以下の関数 **f** と **sq** を定義してください.\n",
    "\n",
    "\n",
    "1) 引数に変数 **x** を取り, xの二乗を返す関数 **f**  \n",
    "2) 引数に関数 **func** と変数 **x** を取り, funcにxの二乗を代入して得られた結果を返す関数 **sq**   \n",
    "\n",
    "\n",
    "sq(f, 2)の結果を変数 **calc** に代入し, calcをプリントしてください (print(calc) --> 16)."
   ]
  },
  {
   "cell_type": "code",
   "execution_count": null,
   "metadata": {},
   "outputs": [],
   "source": [
    "def sq(func, x):\n",
    "    x **= 2\n",
    "    return func(x)\n",
    "    \n",
    "def f(x):\n",
    "    return x ** 2\n",
    "\n",
    "calc = sq(f,2)\n",
    "print(calc)"
   ]
  },
  {
   "cell_type": "markdown",
   "metadata": {},
   "source": [
    "### Problem 4\n",
    "\n",
    "円の面積を求める関数 **calculateArea** を定義してください.\n",
    "\n",
    "\n",
    "ただし, 円周率は**3.14**とし, **PI**という定数として定義し, 使用してください (つまり3.14をそのまま数値として用いてはならないということ).  \n",
    "**calculateArea** は引数として円周率 **pi** と半径 **rad** を取り, それを元に円の面積を計算します.  \n",
    "e.g.) calculateArea(PI, 3) --> 28.26, calculateArea(PI, 5) --> 78.5"
   ]
  },
  {
   "cell_type": "code",
   "execution_count": null,
   "metadata": {},
   "outputs": [],
   "source": [
    "def calculateArea(pi, rad):\n",
    "    return rad ** 2 * pi\n",
    "\n",
    "print(calculateArea(PI,3))\n",
    "print(calculateArea(PI,5))"
   ]
  },
  {
   "cell_type": "markdown",
   "metadata": {},
   "source": [
    "### Problem 5\n",
    "\n",
    "上記の **Problem4** をクロージャーを用いて書き直してください.  \n",
    "\n",
    "\n",
    "関数 **circle** は引数として円周率を取り, 関数内で引数 **rad** を取り円の面積を計算する **calculateArea** を定義し, それを返します.  \n",
    "**circle** の結果を **findAreaOfCircle** という変数に代入し, それを元に円の面積を計算します.  \n",
    "e.g.) findAreaOfCircle(3) --> 28.26, findAreaOfCircle(5) --> 78.5"
   ]
  },
  {
   "cell_type": "code",
   "execution_count": 52,
   "metadata": {},
   "outputs": [
    {
     "name": "stdout",
     "output_type": "stream",
     "text": [
      "28.26\n",
      "78.5\n"
     ]
    }
   ],
   "source": [
    "def circle(pi):\n",
    "    def calculateArea(rad):\n",
    "        nonlocal pi\n",
    "        return rad ** 2 * pi\n",
    "    return calculateArea\n",
    "\n",
    "findAreaOfCircle = circle(PI)\n",
    "print(findAreaOfCircle(3))\n",
    "print(findAreaOfCircle(5))"
   ]
  },
  {
   "cell_type": "markdown",
   "metadata": {},
   "source": [
    "### Problem 6\n",
    "\n",
    "クロージャーを用いて1から10までの積を計算するプログラムを作成してください.  \n",
    "ただし, ループを使ってはならず, 1〜10までの積を直接計算するコードを書いてはいけません (つまり以下のコードはNG).\n",
    "```\n",
    "return 1 * 2 * 3 * 4 * 5 * 6 * 7 * 8 * 9 * 10\n",
    "```\n",
    "\n",
    "\n",
    "*ヒント: スライドの31ページを参照"
   ]
  },
  {
   "cell_type": "code",
   "execution_count": 62,
   "metadata": {},
   "outputs": [
    {
     "name": "stdout",
     "output_type": "stream",
     "text": [
      "2\n",
      "6\n",
      "24\n",
      "120\n",
      "720\n",
      "5040\n",
      "40320\n",
      "362880\n",
      "3628800\n"
     ]
    }
   ],
   "source": [
    "def a():\n",
    "    x = 2\n",
    "    y = 1\n",
    "    def b():\n",
    "        nonlocal x,y\n",
    "        y *= x\n",
    "        x += 1\n",
    "        return y\n",
    "    return b\n",
    "\n",
    "c = a()\n",
    "print(c())\n",
    "print(c())\n",
    "print(c())\n",
    "print(c())\n",
    "print(c())\n",
    "print(c())\n",
    "print(c())\n",
    "print(c())\n",
    "print(c())"
   ]
  }
 ],
 "metadata": {
  "kernelspec": {
   "display_name": "Python 3",
   "language": "python",
   "name": "python3"
  },
  "language_info": {
   "codemirror_mode": {
    "name": "ipython",
    "version": 3
   },
   "file_extension": ".py",
   "mimetype": "text/x-python",
   "name": "python",
   "nbconvert_exporter": "python",
   "pygments_lexer": "ipython3",
   "version": "3.7.4"
  }
 },
 "nbformat": 4,
 "nbformat_minor": 2
}
