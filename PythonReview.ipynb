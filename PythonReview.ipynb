{
 "cells": [
  {
   "cell_type": "markdown",
   "metadata": {},
   "source": [
    "# Python Review\n",
    "\n",
    "#### これまで学んだことを以下の問題を解いて総復習してみましょう."
   ]
  },
  {
   "cell_type": "markdown",
   "metadata": {},
   "source": [
    "### Problem 0 (Boolean)\n",
    "\n",
    "以下の等式の右辺を穴埋めしてください (*True* を **T**, *False* を **F** としています).  \n",
    "\n",
    "not T =  F  \n",
    "not F =  T  \n",
    "\n",
    "T and T =  T  \n",
    "T and F =  F  \n",
    "F and T =  F  \n",
    "F and F =  F  \n",
    "\n",
    "T or T =  T\n",
    "T or F =  T  \n",
    "F or T =  T  \n",
    "F or F =  F  \n",
    "\n",
    "T xor T =  F  \n",
    "T xor F =  T  \n",
    "F xor T =  T  \n",
    "F xor F =  T  \n",
    "\n",
    "(not T) or T = T    \n",
    "(not T) or F = F    \n",
    "(not F) or T = T  \n",
    "(not F) or F = T  \n",
    "\n",
    "10 > 7 =  T\n",
    "2 + 2 == 4 =  T\n",
    "'s' in 'string' =  T\n",
    "1 == False =  F  "
   ]
  },
  {
   "cell_type": "markdown",
   "metadata": {},
   "source": [
    "### Problem 1 (リスト・条件文・関数)\n",
    "\n",
    "与えられた曜日が休日かどうかを判定する関数 **isHoliday** を定義してください. ただし, 祝日は考慮しないものとします.  \n",
    "\n",
    "Input: 'Tuesday' - Output: False (休日ではないため)  \n",
    "Input: 'Sunday' - Output: True (休日であるため)"
   ]
  },
  {
   "cell_type": "code",
   "execution_count": 30,
   "metadata": {},
   "outputs": [],
   "source": [
    "def isHoliday(day):\n",
    "    day_list = [\"Sunday\",\"Monday\",\"Tuesday\",\"Wedesday\",\"Thurseday\",\"Friday\",\"Saturday\"]\n",
    "    holiday = [\"Sunday\",\"Saturday\"]\n",
    "    if day in holiday:\n",
    "        return True\n",
    "    elif day in day_list:\n",
    "        return False\n",
    "    else:\n",
    "        return \"error\""
   ]
  },
  {
   "cell_type": "markdown",
   "metadata": {},
   "source": [
    "#### Driver Code\n",
    "\n",
    "それでは, 以下のコードを実行して上記の関数をテストしてみましょう."
   ]
  },
  {
   "cell_type": "code",
   "execution_count": 31,
   "metadata": {},
   "outputs": [
    {
     "name": "stdout",
     "output_type": "stream",
     "text": [
      "False\n",
      "True\n",
      "error\n"
     ]
    }
   ],
   "source": [
    "print(isHoliday('Tuesday'))\n",
    "print(isHoliday('Sunday'))\n",
    "print(isHoliday('Hello'))"
   ]
  },
  {
   "cell_type": "markdown",
   "metadata": {},
   "source": [
    "### Problem2 (比較演算子・関数)\n",
    "\n",
    "与えられた実数 *n* が, 基準となる整数値 *t* のプラスマイナス10以内に収まっているかどうかを判定する関数 **isAroundT** を定義してください. \n",
    "\n",
    "Input: n=92, t=100 - Output: True  \n",
    "Input: n=25.4, t=36 - Output: False  \n",
    "Input: n=-10, t=0 - Output: True"
   ]
  },
  {
   "cell_type": "code",
   "execution_count": 20,
   "metadata": {},
   "outputs": [],
   "source": [
    "def isAroundT(n,t):\n",
    "    if t <= n+10 and t >= n-10:\n",
    "        return True\n",
    "    else:\n",
    "        return False"
   ]
  },
  {
   "cell_type": "markdown",
   "metadata": {},
   "source": [
    "#### Driver Code\n",
    "\n",
    "それでは, 以下のコードを実行して上記の関数をテストしてみましょう."
   ]
  },
  {
   "cell_type": "code",
   "execution_count": 21,
   "metadata": {},
   "outputs": [
    {
     "name": "stdout",
     "output_type": "stream",
     "text": [
      "True\n",
      "False\n",
      "True\n"
     ]
    }
   ],
   "source": [
    "print(isAroundT(92, 100))\n",
    "print(isAroundT(25.4, 36))\n",
    "print(isAroundT(-10, 0))"
   ]
  },
  {
   "cell_type": "markdown",
   "metadata": {},
   "source": [
    "### Probelm 3 (デフォルト引数・*args)\n",
    "\n",
    "与えられた整数の合計を返す関数 **calcSum** を定義してください.  ただし, 引数の数は不定形であるとし, 引数が与えられなかった場合には0を返します.\n",
    "\n",
    "Input: 23, 49, 10 - Output: 82  \n",
    "Input: 12, 2 - Output: 14  \n",
    "Input: N/A - Output: 0"
   ]
  },
  {
   "cell_type": "code",
   "execution_count": 26,
   "metadata": {},
   "outputs": [],
   "source": [
    "def calcSum(*args):\n",
    "    if args == \"\":\n",
    "        return 0\n",
    "    else:\n",
    "        return sum(args)"
   ]
  },
  {
   "cell_type": "markdown",
   "metadata": {},
   "source": [
    "#### Driver Code\n",
    "\n",
    "それでは, 以下のコードを実行して上記の関数をテストしてみましょう."
   ]
  },
  {
   "cell_type": "code",
   "execution_count": 27,
   "metadata": {},
   "outputs": [
    {
     "name": "stdout",
     "output_type": "stream",
     "text": [
      "82\n",
      "14\n",
      "0\n"
     ]
    }
   ],
   "source": [
    "print(calcSum(23, 49, 10))\n",
    "print(calcSum(12, 2))\n",
    "print(calcSum())"
   ]
  },
  {
   "cell_type": "markdown",
   "metadata": {},
   "source": [
    "### Problem 4 (ラムダ関数・map()・タプル)\n",
    "\n",
    "以下のような, 都市名と気温(°F)を格納したタプルのリスト **temps** が与えられたとします.  \n",
    "このリストを用いて, 都市名と気温(°C)を格納したリストを新しく作成してください.  \n",
    "\n",
    "```\n",
    "temps = [(\"Tokyo\", 25), (\"Beijing\", 28), (\"Paris\", 20), (\"Washington\", 24), (\"London\", 22)]\n",
    "```\n",
    "\n",
    "ただし, °Fと°Cの変換式は以下の通りとし, 実装には **ラムダ関数** と **map()関数** を用いて下さい (処理が簡潔であるため, *def* を用いた書き方はコストが高い).  \n",
    "\n",
    "```\n",
    "C = (F - 32) × 5/9\n",
    "```"
   ]
  },
  {
   "cell_type": "code",
   "execution_count": 1,
   "metadata": {},
   "outputs": [],
   "source": [
    "temps = [(\"Tokyo\", 77), (\"Beijing\", 83), (\"Paris\", 70), (\"Washington\", 75), (\"London\", 72)]"
   ]
  },
  {
   "cell_type": "code",
   "execution_count": 3,
   "metadata": {},
   "outputs": [
    {
     "name": "stdout",
     "output_type": "stream",
     "text": [
      "[('Tokyo', 25.0), ('Beijing', 28.333333333333332), ('Paris', 21.11111111111111), ('Washington', 23.88888888888889), ('London', 22.22222222222222)]\n"
     ]
    }
   ],
   "source": [
    "a = lambda x: (x[0],(x[1]-32)*5/9)\n",
    "print(list(map(a,temps)))"
   ]
  },
  {
   "cell_type": "markdown",
   "metadata": {},
   "source": [
    "### Problem 5 (ソートアルゴリズム)\n",
    "\n",
    "Selection Sort (選択ソート) を実装してください (https://visualgo.net/bn/sorting)."
   ]
  },
  {
   "cell_type": "code",
   "execution_count": 17,
   "metadata": {},
   "outputs": [],
   "source": [
    "def selectionSort(A):\n",
    "    for i in range(len(A)):\n",
    "        Min = i\n",
    "        for j in range(i,len(A)):\n",
    "            if A[Min] > A[j]:\n",
    "                Min = j\n",
    "        temp = A[i]\n",
    "        A[i] = A[Min]\n",
    "        A[Min] = temp\n",
    "    return A\n",
    "                "
   ]
  },
  {
   "cell_type": "markdown",
   "metadata": {},
   "source": [
    "#### Driver Code\n",
    "\n",
    "それでは, 以下のコードを実行して上記の関数をテストしてみましょう."
   ]
  },
  {
   "cell_type": "code",
   "execution_count": 18,
   "metadata": {},
   "outputs": [
    {
     "name": "stdout",
     "output_type": "stream",
     "text": [
      "[2, 6, 8, 11, 22, 25, 29]\n"
     ]
    }
   ],
   "source": [
    "A = [6, 25, 22, 29, 11, 2, 8] \n",
    "print(selectionSort(A))"
   ]
  },
  {
   "cell_type": "markdown",
   "metadata": {},
   "source": [
    "### Problem 6 (クラスとインスタンス・関数・リスト・ループ)  \n",
    "\n",
    "Python備え付けのデータ構造であるリストに関するメソッドを, 既存の組み込みメソッドを用いずに再実装してみましょう.  "
   ]
  },
  {
   "cell_type": "code",
   "execution_count": 13,
   "metadata": {},
   "outputs": [],
   "source": [
    "class List():\n",
    "    def __init__(self, elements):\n",
    "        self.elements = elements\n",
    "        \n",
    "    # リストの最初の要素を返す\n",
    "    def first(self):\n",
    "        return self.elements[0]\n",
    "    \n",
    "    # リストの最後の要素を返す (ただしlen()メソッドは使用禁止)\n",
    "    def last(self):\n",
    "        return self.elements[-1]\n",
    "    \n",
    "    # リストの長さを返す (ただしlen()メソッドは使用禁止)\n",
    "    def findLength(self):\n",
    "        count = 0\n",
    "        for i in self.elements:\n",
    "            count += 1\n",
    "        return count\n",
    "    \n",
    "    # リストの要素を逆にする (ただしreverse()メソッドは使用禁止)\n",
    "    def reverse(self):\n",
    "        n_list = self.elements[::-1]\n",
    "        return n_list\n",
    "    \n",
    "    # 関数を取り, リストの各要素に関数を適用する (pythonのmap関数)\n",
    "    def mapNew(self,func):\n",
    "        n_list = []\n",
    "        for i in self.elements:\n",
    "             n_list.append(func(i))\n",
    "        return n_list\n",
    "    \n",
    "    # 関数を取り, リストの各要素に関数を適用する (pythonのfilter関数)\n",
    "    def filterNew(self,func):\n",
    "        n_list = []\n",
    "        for i in self.elements:\n",
    "            if func(i)  == True:\n",
    "                n_list.append(i)\n",
    "        return n_list"
   ]
  },
  {
   "cell_type": "markdown",
   "metadata": {},
   "source": [
    "続いて, 以下の値を用いて **List** クラスのインスタンスを作成し, 上記のメソッドをテストしてみましょう.  \n",
    "ただし, *mapNew* と *filterNew* で使用する関数は以下の関数とします.\n",
    "\n",
    "```\n",
    "[-3, -6, 0, 5, 1, -9, 4]\n",
    "```"
   ]
  },
  {
   "cell_type": "code",
   "execution_count": 8,
   "metadata": {},
   "outputs": [],
   "source": [
    "# mapNewで用いる関数\n",
    "def squared(x):\n",
    "    return x ** 2\n",
    "\n",
    "# filterNewで用いる関数\n",
    "def isPositive(x):\n",
    "    return x > 0"
   ]
  },
  {
   "cell_type": "code",
   "execution_count": 16,
   "metadata": {},
   "outputs": [
    {
     "name": "stdout",
     "output_type": "stream",
     "text": [
      "-3\n",
      "4\n",
      "7\n",
      "[4, -9, 1, 5, 0, -6, -3]\n",
      "[9, 36, 0, 25, 1, 81, 16]\n",
      "[5, 1, 4]\n"
     ]
    }
   ],
   "source": [
    "a_List = List([-3,-6,0,5,1,-9,4])\n",
    "print(a_List.first())\n",
    "print(a_List.last())\n",
    "print(a_List.findLength())\n",
    "print(a_List.reverse())\n",
    "print(a_List.mapNew(squared))\n",
    "print(a_List.filterNew(isPositive))"
   ]
  },
  {
   "cell_type": "markdown",
   "metadata": {},
   "source": [
    "### Problem 7 (クラスとインスタンス・関数・辞書型・ループ)\n",
    "\n",
    "**Problem6** と同じように, Pythonの辞書型(ディクショナリー)に対する組み込みメソッドのいくつかを再実装してみましょう."
   ]
  },
  {
   "cell_type": "code",
   "execution_count": 32,
   "metadata": {},
   "outputs": [],
   "source": [
    "class Dict():\n",
    "    def __init__(self, keyValues):\n",
    "        self.keyValues = keyValues\n",
    "        \n",
    "    # ディクショナリーのキーのリストを返す\n",
    "    def keys(self):\n",
    "        List = []\n",
    "        for i in self.keyValues:\n",
    "            List.append(i)\n",
    "        return List\n",
    "    \n",
    "    # ディクショナリーの値のリストを返す\n",
    "    def values(self):\n",
    "        List = []\n",
    "        for i in self.keyValues:\n",
    "            List.append(self.keyValues[i])\n",
    "        return List\n",
    "    \n",
    "    # 辞書型の長さを返す (何個のkey-valueペアを持っているか)\n",
    "    def findDictLength(self):\n",
    "        count = 0\n",
    "        for i in self.keyValues:\n",
    "            count += 1\n",
    "        return count\n",
    "    \n",
    "    # 関数を取り, ディクショナリーの各ペアに関数を適用する (pythonのmap関数)\n",
    "    def mapDict(self,func):\n",
    "        n_dict = {}\n",
    "        for i in self.keyValues:\n",
    "            n_dict[i] = func(self.keyValues[i])\n",
    "        return n_dict\n",
    "\n",
    "    # 関数を取り, ディクショナリーの各ペアに関数を適用する (pythonのfilter関数)\n",
    "    def filterDict(self,func):\n",
    "        n_dict = {}\n",
    "        for i in self.keyValues:\n",
    "            if func(self.keyValues[i]) == True:\n",
    "                n_dict[i] = self.keyValues[i]\n",
    "        return n_dict"
   ]
  },
  {
   "cell_type": "markdown",
   "metadata": {},
   "source": [
    "続いて, 以下の値を用いて **Dict** クラスのインスタンスを作成し, 上記のメソッドをテストしてみましょう.  \n",
    "ただし, *mapNew* と *filterNew* で使用する関数は **Problem6** 内で定義された関数とします.\n",
    "\n",
    "```\n",
    "{'a': -3, 'b': -6, 'c': 0, 'd': 5, 'e': 1, 'f': -9, 'g': 4}\n",
    "```"
   ]
  },
  {
   "cell_type": "code",
   "execution_count": 33,
   "metadata": {},
   "outputs": [
    {
     "name": "stdout",
     "output_type": "stream",
     "text": [
      "['a', 'b', 'c', 'd', 'e', 'f', 'g']\n",
      "[-3, -6, 0, 5, 1, -9, 4]\n",
      "7\n",
      "{'a': 9, 'b': 36, 'c': 0, 'd': 25, 'e': 1, 'f': 81, 'g': 16}\n",
      "{'d': 5, 'e': 1, 'g': 4}\n"
     ]
    }
   ],
   "source": [
    "a_dict = Dict({'a':-3,'b':-6,'c':0,'d':5,'e':1,'f':-9,'g':4})\n",
    "print(a_dict.keys())\n",
    "print(a_dict.values())\n",
    "print(a_dict.findDictLength())\n",
    "print(a_dict.mapDict(squared))\n",
    "print(a_dict.filterDict(isPositive))"
   ]
  },
  {
   "cell_type": "markdown",
   "metadata": {},
   "source": [
    "### Problem 8 (クラスとインスタンス・継承・多重リスト)\n",
    "\n",
    "**Problem6** で定義されたクラス **List** を継承して, 2重リストに対応するクラス **NestedList** を定義してください.  \n",
    "また, 2重リストに対応するように **List** クラスの各メソッドをオーバーライドしてください.  \n",
    "ただし, 新しい処理を実装したい場合は, ヘルパーメソッドを定義してよいとします.  "
   ]
  },
  {
   "cell_type": "code",
   "execution_count": 40,
   "metadata": {},
   "outputs": [],
   "source": [
    "class NestedList(List):\n",
    "    def __init__(self, elements):\n",
    "        self.elements = elements\n",
    "        \n",
    "    # 2重リストの最初の要素(リスト)の最初の要素を返す\n",
    "    def first():\n",
    "        first(self.elements)[0]\n",
    "    \n",
    "    # 2重リストの最後の要素(リスト)の最後の要素を返す\n",
    "    def last():\n",
    "        pass\n",
    "    \n",
    "    # 2重リストの要素数を返す (ただしlen()メソッドは使用禁止)\n",
    "    def findLength():\n",
    "        pass\n",
    "    \n",
    "    # リストの要素を逆にし, その中身も逆にする (ただしreverse()メソッドは使用禁止)\n",
    "    def reverse():\n",
    "        pass\n",
    "    \n",
    "    # 関数を取り, リスト内のリストの各要素に関数を適用する (pythonのmap関数)\n",
    "    def mapNew():\n",
    "        pass\n",
    "    \n",
    "    # 関数を取り, リスト内のリストの各要素に関数を適用する (pythonのfilter関数)\n",
    "    def filterNew():\n",
    "        pass"
   ]
  },
  {
   "cell_type": "markdown",
   "metadata": {},
   "source": [
    "続いて, 以下の値を用いて **NestedList** クラスのインスタンスを作成し, 上記のメソッドをテストしてみましょう.  \n",
    "ただし, *mapNew* と *filterNew* で使用する関数は**Problem6** 内で定義された関数とします.  \n",
    "\n",
    "```\n",
    "[\n",
    "    [-3, -6, 0, 5, 1, -9, 4],\n",
    "    [0, -2, 4, 8, -4, 9],\n",
    "    [-3, -1, 5, -9, 8, 7]\n",
    "]\n",
    "```"
   ]
  },
  {
   "cell_type": "code",
   "execution_count": 41,
   "metadata": {},
   "outputs": [
    {
     "ename": "TypeError",
     "evalue": "first() takes 0 positional arguments but 1 was given",
     "output_type": "error",
     "traceback": [
      "\u001b[0;31m---------------------------------------------------------------------------\u001b[0m",
      "\u001b[0;31mTypeError\u001b[0m                                 Traceback (most recent call last)",
      "\u001b[0;32m<ipython-input-41-b63b08e6b8cc>\u001b[0m in \u001b[0;36m<module>\u001b[0;34m\u001b[0m\n\u001b[1;32m      1\u001b[0m \u001b[0mb_list\u001b[0m \u001b[0;34m=\u001b[0m \u001b[0mNestedList\u001b[0m\u001b[0;34m(\u001b[0m\u001b[0;34m[\u001b[0m\u001b[0;34m[\u001b[0m\u001b[0;34m-\u001b[0m\u001b[0;36m3\u001b[0m\u001b[0;34m,\u001b[0m\u001b[0;34m-\u001b[0m\u001b[0;36m6\u001b[0m\u001b[0;34m,\u001b[0m\u001b[0;36m0\u001b[0m\u001b[0;34m,\u001b[0m\u001b[0;36m5\u001b[0m\u001b[0;34m,\u001b[0m\u001b[0;36m1\u001b[0m\u001b[0;34m,\u001b[0m\u001b[0;34m-\u001b[0m\u001b[0;36m9\u001b[0m\u001b[0;34m,\u001b[0m\u001b[0;36m4\u001b[0m\u001b[0;34m]\u001b[0m\u001b[0;34m,\u001b[0m\u001b[0;34m[\u001b[0m\u001b[0;36m0\u001b[0m\u001b[0;34m,\u001b[0m\u001b[0;34m-\u001b[0m\u001b[0;36m2\u001b[0m\u001b[0;34m,\u001b[0m\u001b[0;36m4\u001b[0m\u001b[0;34m,\u001b[0m\u001b[0;36m8\u001b[0m\u001b[0;34m,\u001b[0m\u001b[0;34m-\u001b[0m\u001b[0;36m4\u001b[0m\u001b[0;34m,\u001b[0m\u001b[0;36m9\u001b[0m\u001b[0;34m]\u001b[0m\u001b[0;34m,\u001b[0m\u001b[0;34m[\u001b[0m\u001b[0;34m-\u001b[0m\u001b[0;36m3\u001b[0m\u001b[0;34m,\u001b[0m\u001b[0;34m-\u001b[0m\u001b[0;36m1\u001b[0m\u001b[0;34m,\u001b[0m\u001b[0;36m5\u001b[0m\u001b[0;34m,\u001b[0m\u001b[0;34m-\u001b[0m\u001b[0;36m9\u001b[0m\u001b[0;34m,\u001b[0m\u001b[0;36m8\u001b[0m\u001b[0;34m,\u001b[0m\u001b[0;36m7\u001b[0m\u001b[0;34m]\u001b[0m\u001b[0;34m]\u001b[0m\u001b[0;34m)\u001b[0m\u001b[0;34m\u001b[0m\u001b[0;34m\u001b[0m\u001b[0m\n\u001b[0;32m----> 2\u001b[0;31m \u001b[0mprint\u001b[0m\u001b[0;34m(\u001b[0m\u001b[0mb_list\u001b[0m\u001b[0;34m.\u001b[0m\u001b[0mfirst\u001b[0m\u001b[0;34m(\u001b[0m\u001b[0;34m)\u001b[0m\u001b[0;34m)\u001b[0m\u001b[0;34m\u001b[0m\u001b[0;34m\u001b[0m\u001b[0m\n\u001b[0m",
      "\u001b[0;31mTypeError\u001b[0m: first() takes 0 positional arguments but 1 was given"
     ]
    }
   ],
   "source": [
    "b_list = NestedList([[-3,-6,0,5,1,-9,4],[0,-2,4,8,-4,9],[-3,-1,5,-9,8,7]])\n",
    "print(b_list.first())"
   ]
  },
  {
   "cell_type": "code",
   "execution_count": null,
   "metadata": {},
   "outputs": [],
   "source": []
  }
 ],
 "metadata": {
  "kernelspec": {
   "display_name": "Python 3",
   "language": "python",
   "name": "python3"
  },
  "language_info": {
   "codemirror_mode": {
    "name": "ipython",
    "version": 3
   },
   "file_extension": ".py",
   "mimetype": "text/x-python",
   "name": "python",
   "nbconvert_exporter": "python",
   "pygments_lexer": "ipython3",
   "version": "3.7.4"
  }
 },
 "nbformat": 4,
 "nbformat_minor": 2
}
