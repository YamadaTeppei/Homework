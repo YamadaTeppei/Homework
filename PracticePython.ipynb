{
 "cells": [
  {
   "cell_type": "markdown",
   "metadata": {},
   "source": [
    "### Problem 1\n",
    "\n",
    "6面のサイコロを10回振るシミュレーションを行い, 5の目がでる確率を求めてください.  \n",
    "ただし, ランダム数の生成には *random* ライブラリーを用いると便利です (https://note.nkmk.me/python-random-randrange-randint/)."
   ]
  },
  {
   "cell_type": "code",
   "execution_count": 7,
   "metadata": {},
   "outputs": [
    {
     "name": "stdout",
     "output_type": "stream",
     "text": [
      "0.2\n",
      "20.0 %\n"
     ]
    }
   ],
   "source": [
    "def Probability():\n",
    "    import random\n",
    "    count = 0\n",
    "    for i in range(10):\n",
    "        x = random.randint(1,6)\n",
    "        if x == 5:\n",
    "            count += 1\n",
    "    return count / 10\n",
    "a = Probability()\n",
    "print(a)\n",
    "print(a*100,\"%\")"
   ]
  },
  {
   "cell_type": "markdown",
   "metadata": {},
   "source": [
    "### Problem 2\n",
    "\n",
    "6面のサイコロを10,000回振るシミュレーションを行い, その結果をヒストグラムとして表示してください.  \n",
    "ヒストグラムなどのグラフ描画には, *matplotlib* ライブラリーがオススメです (https://qiita.com/supersaiakujin/items/be4a78809e7278c065e6)."
   ]
  },
  {
   "cell_type": "code",
   "execution_count": 34,
   "metadata": {},
   "outputs": [
    {
     "name": "stderr",
     "output_type": "stream",
     "text": [
      "/Library/Frameworks/Python.framework/Versions/3.7/lib/python3.7/site-packages/ipykernel_launcher.py:15: UserWarning: Matplotlib is currently using module://ipykernel.pylab.backend_inline, which is a non-GUI backend, so cannot show the figure.\n",
      "  from ipykernel import kernelapp as app\n"
     ]
    },
    {
     "data": {
      "image/png": "[encoded data removed]",
      "text/plain": [
       "<Figure size 432x288 with 1 Axes>"
      ]
     },
     "metadata": {
      "needs_background": "light"
     },
     "output_type": "display_data"
    }
   ],
   "source": [
    "import matplotlib.pyplot as plt\n",
    "import random\n",
    "\n",
    "List = []\n",
    "for i in range(10000):\n",
    "    List.append(random.randint(1,6))\n",
    "\n",
    "fig = plt.figure()\n",
    "ax = fig.add_subplot(1,1,1)\n",
    "\n",
    "ax.hist(List, bins=6, rwidth=0.7)\n",
    "ax.set_title('simulation')\n",
    "ax.set_xlabel('number')\n",
    "ax.set_ylabel('trials')\n",
    "fig.show()"
   ]
  },
  {
   "cell_type": "markdown",
   "metadata": {},
   "source": [
    "### Problem 3\n",
    "\n",
    "N個のサイコロを同時に振ったときのサイコロの目の合計を記録する作業をM回繰り返すとします(Mのデフォルト値は10,000).  \n",
    "合計の散らばりをヒストグラムとして表してください.  "
   ]
  },
  {
   "cell_type": "code",
   "execution_count": 36,
   "metadata": {},
   "outputs": [
    {
     "name": "stderr",
     "output_type": "stream",
     "text": [
      "/Library/Frameworks/Python.framework/Versions/3.7/lib/python3.7/site-packages/ipykernel_launcher.py:21: UserWarning: Matplotlib is currently using module://ipykernel.pylab.backend_inline, which is a non-GUI backend, so cannot show the figure.\n"
     ]
    },
    {
     "data": {
      "image/png": "[encoded data removed]",
      "text/plain": [
       "<Figure size 432x288 with 1 Axes>"
      ]
     },
     "metadata": {
      "needs_background": "light"
     },
     "output_type": "display_data"
    }
   ],
   "source": [
    "def rollAndAddDice(n_dice, n_trials=10000):\n",
    "    import random\n",
    "    import matplotlib.pyplot as plt\n",
    "\n",
    "    List = []\n",
    "    for i in range(n_trials):\n",
    "        y = 0\n",
    "        for j in range(n_dice):\n",
    "            x = random.randint(1,6)\n",
    "            y += x\n",
    "        List.append(y)\n",
    "    return List\n",
    "List = rollAndAddDice(2)  \n",
    "fig = plt.figure()\n",
    "ax = fig.add_subplot(1,1,1)\n",
    "\n",
    "ax.hist(List, bins=11, rwidth=0.7)\n",
    "ax.set_title('simulation')\n",
    "ax.set_xlabel('number')\n",
    "ax.set_ylabel('trials')\n",
    "fig.show()\n"
   ]
  },
  {
   "cell_type": "code",
   "execution_count": null,
   "metadata": {},
   "outputs": [],
   "source": []
  }
 ],
 "metadata": {
  "kernelspec": {
   "display_name": "Python 3",
   "language": "python",
   "name": "python3"
  },
  "language_info": {
   "codemirror_mode": {
    "name": "ipython",
    "version": 3
   },
   "file_extension": ".py",
   "mimetype": "text/x-python",
   "name": "python",
   "nbconvert_exporter": "python",
   "pygments_lexer": "ipython3",
   "version": "3.7.4"
  }
 },
 "nbformat": 4,
 "nbformat_minor": 2
}
