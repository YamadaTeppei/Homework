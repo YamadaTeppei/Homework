{
 "cells": [
  {
   "cell_type": "markdown",
   "metadata": {},
   "source": [
    "# Searching & Sorting (探索とソート)\n",
    "\n",
    "#### スライドのアルゴリズムを元に, 以下の探索・ソートアルゴリズムを実装してみましょう.  "
   ]
  },
  {
   "cell_type": "markdown",
   "metadata": {},
   "source": [
    "## Searching (探索)"
   ]
  },
  {
   "cell_type": "markdown",
   "metadata": {},
   "source": [
    "### #1 Jump Search\n",
    "\n",
    "ソート済みのリスト中に値が存在する場合はそのインデックスを, 存在しない場合は False を返す **jumpSearch** 関数を定義してください. "
   ]
  },
  {
   "cell_type": "code",
   "execution_count": 19,
   "metadata": {},
   "outputs": [],
   "source": [
    "def jumpSearch(lst,data,m=3,n=0):\n",
    "    if n <= len(lst)-1:\n",
    "        if data == lst[n]:\n",
    "            return n\n",
    "        elif data > lst[n]:\n",
    "            return jumpSearch(lst,data,m,n+3)\n",
    "        else:\n",
    "            #　nを最後にジャンプした一つ前のindexの次のindexにする\n",
    "            n = n - m + 1\n",
    "            for i in range(m-1):\n",
    "                if data == lst[n]:\n",
    "                    return n\n",
    "                n += 1\n",
    "    return False"
   ]
  },
  {
   "cell_type": "markdown",
   "metadata": {},
   "source": [
    "### Driver code\n",
    "\n",
    "それでは, 上記で定義した関数を以下のセルを用いてテストしてみましょう.  "
   ]
  },
  {
   "cell_type": "code",
   "execution_count": 20,
   "metadata": {},
   "outputs": [
    {
     "name": "stdout",
     "output_type": "stream",
     "text": [
      "4\n",
      "False\n"
     ]
    }
   ],
   "source": [
    "lst1 = [1, 4, 7, 19, 24, 30, 44, 46, 50, 52, 60, 65, 67]\n",
    "print(jumpSearch(lst1, 24))\n",
    "print(jumpSearch(lst1, 26))"
   ]
  },
  {
   "cell_type": "markdown",
   "metadata": {},
   "source": [
    "### #2 Interpolation Search\n",
    "\n",
    "ソート済みのリスト中に値が存在する場合はそのインデックスを, 存在しない場合は False を返す **interpolationSearch** 関数を定義してください. "
   ]
  },
  {
   "cell_type": "code",
   "execution_count": 99,
   "metadata": {},
   "outputs": [],
   "source": [
    "def interpolationSearch(lst,x): \n",
    "    lo = 0\n",
    "    hi = (len(lst) - 1) \n",
    "    \n",
    "    while lo <= hi and x >= lst[lo] and x <= lst[hi]: \n",
    "        #　判定するための要素が一つしかなければ\n",
    "        if lo == hi: \n",
    "            if lst[lo] == x:  \n",
    "                return lo; \n",
    "            return False \n",
    "        \n",
    "        pos = lo + ((x - lst[lo]) * (hi - lo)) // (lst[hi] - lst[lo])\n",
    "        \n",
    "        if lst[pos] == x: \n",
    "            return pos \n",
    "        \n",
    "        if lst[pos] < x: \n",
    "            lo = pos + 1 \n",
    "    \n",
    "        else: \n",
    "            hi = pos - 1\n",
    "    return False"
   ]
  },
  {
   "cell_type": "markdown",
   "metadata": {},
   "source": [
    "### Driver code\n",
    "\n",
    "それでは, 上記で定義した関数を以下のセルを用いてテストしてみましょう.  "
   ]
  },
  {
   "cell_type": "code",
   "execution_count": 102,
   "metadata": {},
   "outputs": [
    {
     "name": "stdout",
     "output_type": "stream",
     "text": [
      "4\n",
      "False\n"
     ]
    }
   ],
   "source": [
    "lst1 = [1, 4, 7, 19, 24, 30, 44, 46, 50, 52, 60, 65, 67]\n",
    "print(interpolationSearch(lst1, 24))\n",
    "print(interpolationSearch(lst1, 26))"
   ]
  },
  {
   "cell_type": "markdown",
   "metadata": {},
   "source": [
    "## Sorting (ソート)"
   ]
  },
  {
   "cell_type": "markdown",
   "metadata": {},
   "source": [
    "### #1 Bubble Sort\n",
    "\n",
    "与えられたリストをソートする関数 **bubbleSort** を定義してください.  "
   ]
  },
  {
   "cell_type": "code",
   "execution_count": 23,
   "metadata": {},
   "outputs": [],
   "source": [
    "def bubbleSort(lst):\n",
    "    for i in range(1,len(lst)):\n",
    "        for j in range(len(lst)-i):\n",
    "            if lst[j] > lst[j+1]:\n",
    "                lst[j],lst[j+1] = lst[j+1],lst[j]\n",
    "    \n",
    "        "
   ]
  },
  {
   "cell_type": "markdown",
   "metadata": {},
   "source": [
    "### Driver code\n",
    "\n",
    "それでは, 上記で定義した関数を以下のセルを用いてテストしてみましょう. "
   ]
  },
  {
   "cell_type": "code",
   "execution_count": 24,
   "metadata": {},
   "outputs": [
    {
     "name": "stdout",
     "output_type": "stream",
     "text": [
      "Original list: [3, 0, 8, 1, 29, 11, 26, 6, 1]\n",
      "Sorted list: [0, 1, 1, 3, 6, 8, 11, 26, 29]\n"
     ]
    }
   ],
   "source": [
    "lst = [3, 0, 8, 1, 29, 11, 26, 6, 1]\n",
    "print('Original list:', lst)\n",
    "bubbleSort(lst)\n",
    "print('Sorted list:', lst)"
   ]
  },
  {
   "cell_type": "markdown",
   "metadata": {},
   "source": [
    "### #2 Quick Sort\n",
    "\n",
    "与えられたリストをソートする関数 **quickSort** を定義してください.  "
   ]
  },
  {
   "cell_type": "code",
   "execution_count": 103,
   "metadata": {},
   "outputs": [],
   "source": [
    "def quickSort(arr):\n",
    "    left = []\n",
    "    right = []\n",
    "    if len(arr) <= 1:\n",
    "        return arr\n",
    "    \n",
    "    ref = arr[len(arr)-1]\n",
    "    ref_count = 0\n",
    "    \n",
    "    for ele in arr:\n",
    "        if ele < ref:\n",
    "            left.append(ele)\n",
    "        elif ele > ref:\n",
    "            right.append(ele)\n",
    "        else:\n",
    "            ref_count += 1\n",
    "    \n",
    "    left = quickSort(left)\n",
    "    right = quickSort(right)\n",
    "    \n",
    "    return left + [ref] * ref_count + right\n",
    "    "
   ]
  },
  {
   "cell_type": "markdown",
   "metadata": {},
   "source": [
    "### Driver code\n",
    "\n",
    "それでは, 上記で定義した関数を以下のセルを用いてテストしてみましょう. "
   ]
  },
  {
   "cell_type": "code",
   "execution_count": 104,
   "metadata": {},
   "outputs": [
    {
     "name": "stdout",
     "output_type": "stream",
     "text": [
      "Original list: [3, 0, 8, 1, 29, 11, 26, 6, 1]\n",
      "[0, 1, 1, 3, 6, 8, 11, 26, 29]\n",
      "Sorted list: [3, 0, 8, 1, 29, 11, 26, 6, 1]\n"
     ]
    }
   ],
   "source": [
    "lst = [3, 0, 8, 1, 29, 11, 26, 6, 1]\n",
    "print('Original list:', lst)\n",
    "print(quickSort(lst))\n",
    "print('Sorted list:', lst)"
   ]
  },
  {
   "cell_type": "code",
   "execution_count": null,
   "metadata": {},
   "outputs": [],
   "source": []
  }
 ],
 "metadata": {
  "kernelspec": {
   "display_name": "Python 3",
   "language": "python",
   "name": "python3"
  },
  "language_info": {
   "codemirror_mode": {
    "name": "ipython",
    "version": 3
   },
   "file_extension": ".py",
   "mimetype": "text/x-python",
   "name": "python",
   "nbconvert_exporter": "python",
   "pygments_lexer": "ipython3",
   "version": "3.7.4"
  }
 },
 "nbformat": 4,
 "nbformat_minor": 2
}
