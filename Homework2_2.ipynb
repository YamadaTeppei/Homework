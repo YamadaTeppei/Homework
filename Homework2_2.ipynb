{
 "cells": [
  {
   "cell_type": "markdown",
   "metadata": {},
   "source": [
    "# Homework 2 (*vol.2*)\n",
    "\n",
    "#### トピック: 条件文, ループ, リスト, 文字列\n",
    "\n",
    "### Problem 1\n",
    "\n",
    "Built-inメソッドやリストのスライスを使わずに, 与えられた文字列を逆さにする関数 **reverseString()** を定義してください.\n",
    "\n",
    "e.g.)  \n",
    "Input: \"Hello\" - Output: \"olleH\"  \n",
    "Input: \" \" - Output: \" \""
   ]
  },
  {
   "cell_type": "code",
   "execution_count": 19,
   "metadata": {},
   "outputs": [
    {
     "name": "stdout",
     "output_type": "stream",
     "text": [
      "olleH\n",
      " \n"
     ]
    }
   ],
   "source": [
    "def reverseString(s):\n",
    "    a = []\n",
    "    revas = \"\"\n",
    "    b = len(s)\n",
    "    for i in s:\n",
    "        a += i\n",
    "        b -= 1\n",
    "        revas += s[b]\n",
    "    return revas\n",
    "    \n",
    "print(reverseString(\"Hello\"))\n",
    "print(reverseString(\" \"))"
   ]
  },
  {
   "cell_type": "markdown",
   "metadata": {},
   "source": [
    "# Problem 2\n",
    "\n",
    "2つのリストが与えられたとき, そのリストの共通の要素をリストとして返す関数 **findDuplicates()** を定義してください.\n",
    "\n",
    "e.g.)  \n",
    "Input: [1, 2, 3], [6, 3, 1] - Output: [1, 3]  \n",
    "Input: [], [4, 2, 9] - Output: []"
   ]
  },
  {
   "cell_type": "code",
   "execution_count": 20,
   "metadata": {},
   "outputs": [
    {
     "name": "stdout",
     "output_type": "stream",
     "text": [
      "[1, 3]\n",
      "[]\n"
     ]
    }
   ],
   "source": [
    "def findDuplicates(a_lst,b_lst):\n",
    "    c_lst = []\n",
    "    for i in a_lst:\n",
    "        for j in b_lst:\n",
    "            if i == j:\n",
    "                c_lst.append(i)\n",
    "                break\n",
    "    return c_lst\n",
    "                \n",
    "print(findDuplicates([1,2,3],[6,3,1]))\n",
    "print(findDuplicates([],[4,2,9]))"
   ]
  },
  {
   "cell_type": "markdown",
   "metadata": {},
   "source": [
    "### Problem 3\n",
    "\n",
    "与えられた文字列が回文であるか(どちらから読んでも同じ文字列)を判別する関数 **isPalindrome()** を定義してください.  \n",
    "ただし, 与えられた文字列をソートせずにアルゴリズムを実装してみてください.\n",
    "\n",
    "e.g.)  \n",
    "Input: \"abcba\" - Output: True  \n",
    "Input: \"abc\" - Output: False  \n",
    "Input: \"a\" - Output: True"
   ]
  },
  {
   "cell_type": "code",
   "execution_count": 86,
   "metadata": {},
   "outputs": [
    {
     "name": "stdout",
     "output_type": "stream",
     "text": [
      "True\n",
      "False\n",
      "True\n"
     ]
    }
   ],
   "source": [
    "def isPalindrome(a):\n",
    "    b = len(a) // 2\n",
    "    d = 0\n",
    "    if len(a)%2 == 1:\n",
    "        b += 1\n",
    "    for i in range(b):\n",
    "        d -=1        \n",
    "        if a[i] != a[d]:\n",
    "            return False\n",
    "        return True\n",
    "print(isPalindrome(\"abcba\"))\n",
    "print(isPalindrome(\"abc\"))\n",
    "print(isPalindrome(\"a\"))"
   ]
  },
  {
   "cell_type": "markdown",
   "metadata": {},
   "source": [
    "### Problem 4\n",
    "\n",
    "ユークリッドの互除法 (https://ja.wikipedia.org/wiki/ユークリッドの互除法) を用いて, 与えられた2つの整数の最大公約数を求める関数 **gcd()** を定義してください.\n",
    "\n",
    "e.g.)  \n",
    "Input: 1071, 1029 - Output: 21"
   ]
  },
  {
   "cell_type": "code",
   "execution_count": 22,
   "metadata": {},
   "outputs": [
    {
     "name": "stdout",
     "output_type": "stream",
     "text": [
      "21\n"
     ]
    }
   ],
   "source": [
    "def gcd(a,b):\n",
    "    while b != 0:\n",
    "        r = b\n",
    "        a %= b\n",
    "        b = a\n",
    "        a = r\n",
    "    return a\n",
    "print(gcd(1071,1029))"
   ]
  },
  {
   "cell_type": "markdown",
   "metadata": {},
   "source": [
    "### Problem 5\n",
    "\n",
    "与えられた数が偶数であるか, 奇数であるか, 素数であるかを判別する関数 **evenOddPrime()** を定義してください.  \n",
    "ただし, 奇数であり素数でもある場合もあることに注意し(e.g. 3), 負の数が与えられた場合には **\"Negative\"** という文字列をプリントし, 計算量は考慮しないものとします(つまり動けばよいということ).\n",
    "\n",
    "e.g.)  \n",
    "Input: 28 - Output: \"Even\"  \n",
    "Input: -1 - Output: \"Negative\"  \n",
    "Input: 17 - Output: \"Odd\", \"Prime\""
   ]
  },
  {
   "cell_type": "code",
   "execution_count": 81,
   "metadata": {},
   "outputs": [
    {
     "name": "stdout",
     "output_type": "stream",
     "text": [
      "Even\n",
      "Negative\n",
      "Odd,Prime\n"
     ]
    }
   ],
   "source": [
    "def evenOddPrime(a):\n",
    "    if a < 0:\n",
    "        return \"Negative\"\n",
    "    \n",
    "    elif (a == 2):\n",
    "            return \"Even,Prime\"\n",
    "    elif (a%2 == 0):\n",
    "            return \"Even\"\n",
    "    else:\n",
    "        if a == 1:\n",
    "            return \"Odd\"\n",
    "        else:\n",
    "            for i in range(2,a):\n",
    "                if a%i == 0:\n",
    "                    return \"Odd\"\n",
    "            return \"Odd,Prime\"\n",
    "       \n",
    "             \n",
    "        \n",
    "print(evenOddPrime(28))\n",
    "print(evenOddPrime(-1))\n",
    "print(evenOddPrime(17))"
   ]
  },
  {
   "cell_type": "markdown",
   "metadata": {},
   "source": [
    "### Problem 6\n",
    "\n",
    "与えられた整数のリストを小さい順に並び替える(ソートする)関数 **simpleSort()** を定義してください.  \n",
    "ソートに使用するアルゴリズムはどのようなものでも構いませんが, 調べずに自分の頭で考えてアルゴリズムをコードで表してみてください.\n",
    "\n",
    "e.g.)  \n",
    "Input: [4, 1, 9, 5, 3] - Output: [1, 3, 4, 5, 9]"
   ]
  },
  {
   "cell_type": "code",
   "execution_count": 24,
   "metadata": {},
   "outputs": [
    {
     "name": "stdout",
     "output_type": "stream",
     "text": [
      "[1, 3, 4, 5, 9]\n"
     ]
    }
   ],
   "source": [
    "def simpleSort(input_lst):\n",
    "    output_lst = []\n",
    "    for i in range(len(input_lst)):\n",
    "        m = min(input_lst)\n",
    "        output_lst.append(m)\n",
    "        input_lst.remove(m)\n",
    "    return output_lst\n",
    "print(simpleSort([4,1,9,5,3]))"
   ]
  },
  {
   "cell_type": "markdown",
   "metadata": {},
   "source": [
    "### Problem 7 (Excerpt from \"Cracking the Coding Interview\")\n",
    "\n",
    "与えられた文字列が他の文字列の一部(substring)であるかを判定する関数 **isSubstring()** が以下のように定義されているとします.  \n",
    "この関数 **isSubstring()** を**一回のみ**呼び出して, 2つの文字列 s1, s2 を引数に取り, s2がs1を1回転させたものであるかを判定する関数 **isRotation()** を定義してください.\n",
    "\n",
    "e.g.)  \n",
    "Input: \"waterbottle\", \"erbottlewat\" - Output: True    \n",
    "Input: \"waterbottle\", \"botterlewat\" - Output: False"
   ]
  },
  {
   "cell_type": "code",
   "execution_count": 2,
   "metadata": {},
   "outputs": [
    {
     "name": "stdout",
     "output_type": "stream",
     "text": [
      "True\n",
      "False\n",
      "True\n"
     ]
    }
   ],
   "source": [
    "def isSubstring(s1, s2):\n",
    "    return s1 in s2\n",
    "\n",
    "def isRotation(s1,s2):\n",
    "    word_count = len(s1)\n",
    "    n = word_count\n",
    "    for i in range(1,word_count):\n",
    "        n -= 1\n",
    "        if s1[:i] == s2[n:word_count]:\n",
    "            s3 = s2[n:word_count] + s2[:n]\n",
    "            break\n",
    "    else:\n",
    "        return False\n",
    "    return isSubstring(s1,s3)\n",
    "    \n",
    "print(isRotation(\"waterbottle\",\"erbottlewat\"))\n",
    "print(isRotation(\"waterbottle\",\"botterlewat\"))\n",
    "print(isRotation(\"waterbottle\",\"ttlewaterbo\"))"
   ]
  },
  {
   "cell_type": "code",
   "execution_count": null,
   "metadata": {},
   "outputs": [],
   "source": []
  }
 ],
 "metadata": {
  "kernelspec": {
   "display_name": "Python 3",
   "language": "python",
   "name": "python3"
  },
  "language_info": {
   "codemirror_mode": {
    "name": "ipython",
    "version": 3
   },
   "file_extension": ".py",
   "mimetype": "text/x-python",
   "name": "python",
   "nbconvert_exporter": "python",
   "pygments_lexer": "ipython3",
   "version": "3.7.4"
  }
 },
 "nbformat": 4,
 "nbformat_minor": 2
}
