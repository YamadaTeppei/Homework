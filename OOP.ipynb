{
 "cells": [
  {
   "cell_type": "markdown",
   "metadata": {},
   "source": [
    "# Practice Problems\n",
    "\n",
    "#### トピック: オブジェクト指向プログラミング(クラスとインスタンス)\n",
    "\n",
    "### Problem 1\n",
    "\n",
    "クラス **Student** を定義してください. **Student** クラスの持つ属性は以下の通りです.  \n",
    "```\n",
    "ID(ID): \n",
    "name(名前): \n",
    "score(点数): \n",
    "```\n",
    "\n",
    "クラスの定義が完了したら, そのクラスを用いて以下の5つのインスタンスを作成してください.  \n",
    "```\n",
    "s1: 1 - \"A\" - 83  \n",
    "s2: 2 - \"B\" - 80 \n",
    "s3: 3 - \"C\" - 93  \n",
    "s4: 4 - \"D\" - 79  \n",
    "s5: 5 - \"E\" - 87  \n",
    "```"
   ]
  },
  {
   "cell_type": "code",
   "execution_count": 16,
   "metadata": {},
   "outputs": [],
   "source": [
    "class Student:\n",
    "    \n",
    "    def __init__(self,ID,name,score):\n",
    "        self.ID = ID\n",
    "        self.name = name\n",
    "        self.score = score\n",
    "s1 = Student(1,\"A\",83)\n",
    "s2 = Student(2,\"B\",80)\n",
    "s3 = Student(3,\"C\",93)\n",
    "s4 = Student(4,\"D\",79)\n",
    "s5 = Student(5,\"E\",87)"
   ]
  },
  {
   "cell_type": "code",
   "execution_count": 17,
   "metadata": {},
   "outputs": [
    {
     "name": "stdout",
     "output_type": "stream",
     "text": [
      "A\n"
     ]
    }
   ],
   "source": [
    "print(s1.name)"
   ]
  },
  {
   "cell_type": "markdown",
   "metadata": {},
   "source": [
    "### Problem 2\n",
    "\n",
    "生徒のテストの点数を記録し, 基本的な統計を取る **AutoGrader** クラスを定義してください. **AutoGrader** クラスの持つ属性は以下の通りです.  \n",
    "```\n",
    "name(プログラムの名称):  \n",
    "scores(各生徒の点数を格納したリスト):  \n",
    "calcAverage(平均を計算する関数):  \n",
    "calcMax(最高点を計算する関数):\n",
    "calcMin(最低点を計算する関数):\n",
    "```\n",
    "クラスの定義が完了したら, そのクラスを用いて以下のインスタンスを作成し, calcAverage/calcMax/calcMinを実行してください.  \n",
    "ただし, 生徒の情報は *Problem1* で作成したものを使うとします.  "
   ]
  },
  {
   "cell_type": "code",
   "execution_count": 18,
   "metadata": {},
   "outputs": [],
   "source": [
    "class AutoGrader:\n",
    "    def __init__(self,name,scores):\n",
    "        self.name = name\n",
    "        self.scores = scores\n",
    "    def colcAverge(self):\n",
    "        return sum(self.scores) / len(self.scores)\n",
    "    def colcMax(self):\n",
    "        return max(self.scores)\n",
    "    def colcMin(self):\n",
    "        return min(self.scores)"
   ]
  },
  {
   "cell_type": "code",
   "execution_count": 20,
   "metadata": {},
   "outputs": [
    {
     "name": "stdout",
     "output_type": "stream",
     "text": [
      "84.4\n",
      "93\n",
      "79\n",
      "[83, 80, 93, 79, 87]\n"
     ]
    }
   ],
   "source": [
    "ag = AutoGrader(\"a\",[s1.score,s2.score,s3.score,s4.score,s5.score])\n",
    "print(ag.colcAverge())\n",
    "print(ag.colcMax())\n",
    "print(ag.colcMin())"
   ]
  },
  {
   "cell_type": "markdown",
   "metadata": {},
   "source": [
    "### Problem 3\n",
    "\n",
    "*Problem1* と *Problem2* で作成したクラスを改変して, 複数科目のテストの統計情報を計算するクラス **StudentNew** と **AutoGraderNew** を定義してください.  \n",
    "実装方法は自由としますが, **StudentNew** クラスのインスタンスは以下のように初期化するものとします.  \n",
    "```\n",
    "s1: 1 - \"A\" - [83, 79, 95]  \n",
    "s2: 2 - \"B\" - [80, 78, 89] \n",
    "s3: 3 - \"C\" - [93, 68, 98] \n",
    "s4: 4 - \"D\" - [79, 90, 86]  \n",
    "s5: 5 - \"E\" - [87, 80, 81] \n",
    "```"
   ]
  },
  {
   "cell_type": "code",
   "execution_count": 31,
   "metadata": {},
   "outputs": [],
   "source": [
    "class StudentNew:\n",
    "    def __init__(self,ID,name,scores):\n",
    "        self.ID = ID\n",
    "        self.name = name\n",
    "        self.scores = scores\n",
    "\n",
    "s1 = StudentNew(1,\"A\",[83,79,95])\n",
    "s2 = StudentNew(2,\"B\",[80,78,89])\n",
    "s3 = StudentNew(3,\"C\",[93,68,98])\n",
    "s4 = StudentNew(4,\"D\",[79,90,86])\n",
    "s5 = StudentNew(5,\"E\",[87,80,81])"
   ]
  },
  {
   "cell_type": "code",
   "execution_count": 32,
   "metadata": {},
   "outputs": [
    {
     "name": "stdout",
     "output_type": "stream",
     "text": [
      "[83, 79, 95]\n"
     ]
    }
   ],
   "source": [
    "print(s1.scores)"
   ]
  },
  {
   "cell_type": "code",
   "execution_count": 43,
   "metadata": {},
   "outputs": [],
   "source": [
    "class AutoGraderNew:\n",
    "    def __init__(self,name,scores):\n",
    "        self.name = name\n",
    "        self.scores = scores\n",
    "    def colcAverge(self,Sudject):\n",
    "        Sum = 0\n",
    "        for i in self.scores:\n",
    "            Sum += i[Sudject]\n",
    "        return Sum / len(self.scores)\n",
    "    def colcMax(self,Sudject):\n",
    "        Max = 0\n",
    "        for i in self.scores:\n",
    "            if Max < i[Sudject]:\n",
    "                Max = i[Sudject]\n",
    "        return Max\n",
    "    def colcMin(self,Sudject):\n",
    "        Min = self.scores[1][Sudject]\n",
    "        for i in self.scores:\n",
    "            if Min > i[Sudject]:\n",
    "                Min = i[Sudject]\n",
    "        return Min"
   ]
  },
  {
   "cell_type": "code",
   "execution_count": 44,
   "metadata": {},
   "outputs": [
    {
     "name": "stdout",
     "output_type": "stream",
     "text": [
      "84.4\n",
      "93\n",
      "79\n"
     ]
    }
   ],
   "source": [
    "bg = AutoGraderNew(\"b\",[s1.scores,s2.scores,s3.scores,s4.scores,s5.scores])\n",
    "print(bg.colcAverge(0))\n",
    "print(bg.colcMax(0))\n",
    "print(bg.colcMin(0))"
   ]
  },
  {
   "cell_type": "code",
   "execution_count": null,
   "metadata": {},
   "outputs": [],
   "source": []
  }
 ],
 "metadata": {
  "kernelspec": {
   "display_name": "Python 3",
   "language": "python",
   "name": "python3"
  },
  "language_info": {
   "codemirror_mode": {
    "name": "ipython",
    "version": 3
   },
   "file_extension": ".py",
   "mimetype": "text/x-python",
   "name": "python",
   "nbconvert_exporter": "python",
   "pygments_lexer": "ipython3",
   "version": "3.7.4"
  }
 },
 "nbformat": 4,
 "nbformat_minor": 2
}
