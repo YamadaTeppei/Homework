{
 "cells": [
  {
   "cell_type": "markdown",
   "metadata": {},
   "source": [
    "# Practice Problems\n",
    "\n",
    "*トピック: リストと文字列, コントロールフロー*\n",
    "\n",
    "### Problem 1\n",
    "\n",
    "以下のリストにループをかけて各要素をプリントしてください. ただし, 以下に示すように3通りの書き方を考えてください.  \n",
    "\n",
    "`[2, 5, 8, 1, 3, 10]`"
   ]
  },
  {
   "cell_type": "code",
   "execution_count": 1,
   "metadata": {},
   "outputs": [],
   "source": [
    "lst = [2, 5, 8, 1, 3, 10]"
   ]
  },
  {
   "cell_type": "code",
   "execution_count": 2,
   "metadata": {},
   "outputs": [
    {
     "name": "stdout",
     "output_type": "stream",
     "text": [
      "2 5 8 1 3 10 "
     ]
    }
   ],
   "source": [
    "# for-in型による実装\n",
    "\n",
    "for i in lst:\n",
    "    print(i,end=\" \")\n",
    "    "
   ]
  },
  {
   "cell_type": "code",
   "execution_count": 3,
   "metadata": {},
   "outputs": [
    {
     "name": "stdout",
     "output_type": "stream",
     "text": [
      "2 5 8 1 3 10 "
     ]
    }
   ],
   "source": [
    "# for-range型による実装\n",
    "\n",
    "for i in range(len(lst)):\n",
    "    print(lst[i],end=\" \")"
   ]
  },
  {
   "cell_type": "code",
   "execution_count": 4,
   "metadata": {},
   "outputs": [
    {
     "name": "stdout",
     "output_type": "stream",
     "text": [
      "2 5 8 1 3 10 "
     ]
    }
   ],
   "source": [
    "# whileによる実装\n",
    "\n",
    "i = 0\n",
    "while i < len(lst):\n",
    "    print(lst[i],end=\" \")\n",
    "    i += 1"
   ]
  },
  {
   "cell_type": "markdown",
   "metadata": {},
   "source": [
    "### Problem 2\n",
    "\n",
    "以下のネストされたリストにループを書き、各要素をプリントしてください. ただし, プリントされる結果は *1,2,3,4...* と順番になるようにしてください.  \n",
    "\n",
    "`[[[1, 2], [3, 4]], [[5, 6]], [[7, 8], [9, 10]]]`"
   ]
  },
  {
   "cell_type": "code",
   "execution_count": 5,
   "metadata": {},
   "outputs": [],
   "source": [
    "lst2 = [[[1, 2], [3, 4]], [[5, 6]], [[7, 8], [9, 10]]]"
   ]
  },
  {
   "cell_type": "code",
   "execution_count": 9,
   "metadata": {},
   "outputs": [
    {
     "name": "stdout",
     "output_type": "stream",
     "text": [
      "1 2 3 4 5 6 7 8 9 10 "
     ]
    }
   ],
   "source": [
    "for i in range(len(lst2)):\n",
    "    for x in range(len(lst2[i])):\n",
    "        for y in range(len(lst2[i][x])):\n",
    "            print(lst2[i][x][y],end=\" \")\n",
    "    \n",
    "        "
   ]
  },
  {
   "cell_type": "markdown",
   "metadata": {},
   "source": [
    "### Problem 3\n",
    "\n",
    "与えられた2つのリストが同じ要素を含んでいるか(**順番や重複する要素の数は考慮しない**)を判別する関数を定義してください.  \n",
    "ただし, Pythonの組み込みの関数である *set()* などは用いてはいけません.  \n",
    "\n",
    "e.g.  \n",
    "Input: [1, 2, 3], [1, 2, 3] - Output: True  \n",
    "Input: [1, 2, 3], [1, 3, 4] - Output: False  \n",
    "Input: [18, 28, 5, 12], [28, 5, 12, 18] - Output: True  \n",
    "Input: [18, 28, 5, 12], [28, 5, 12, 18, 5, 28] - Output: True  \n",
    "Input: [1, 2], [4, 2, 1] - Output: False"
   ]
  },
  {
   "cell_type": "code",
   "execution_count": 18,
   "metadata": {},
   "outputs": [
    {
     "name": "stdout",
     "output_type": "stream",
     "text": [
      "True\n",
      "False\n",
      "True\n",
      "True\n",
      "False\n"
     ]
    }
   ],
   "source": [
    "def x(a_lst,b_lst):\n",
    "    for i in a_lst:\n",
    "        for j in b_lst:\n",
    "            if i == j:\n",
    "                break\n",
    "        else:\n",
    "            return False\n",
    "    return True\n",
    "def y(a_lst,b_lst):\n",
    "    z = x(a_lst,b_lst)\n",
    "    if z == True:\n",
    "        return x(b_lst,a_lst)\n",
    "    else:\n",
    "        return z\n",
    "            \n",
    "\n",
    "print(y([1,2,3],[1,2,3]))\n",
    "print(y([1,2,3],[1,3,4]))\n",
    "print(y([18,28,5,12],[28,5,12,18]))\n",
    "print(y([18,28,5,12],[28,5,12,18,5,28]))\n",
    "print(y([1,2],[4,2,1]))"
   ]
  },
  {
   "cell_type": "code",
   "execution_count": null,
   "metadata": {},
   "outputs": [],
   "source": []
  }
 ],
 "metadata": {
  "kernelspec": {
   "display_name": "Python 3",
   "language": "python",
   "name": "python3"
  },
  "language_info": {
   "codemirror_mode": {
    "name": "ipython",
    "version": 3
   },
   "file_extension": ".py",
   "mimetype": "text/x-python",
   "name": "python",
   "nbconvert_exporter": "python",
   "pygments_lexer": "ipython3",
   "version": "3.7.4"
  }
 },
 "nbformat": 4,
 "nbformat_minor": 2
}
