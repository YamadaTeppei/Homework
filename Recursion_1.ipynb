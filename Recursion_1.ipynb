{
 "cells": [
  {
   "cell_type": "markdown",
   "metadata": {},
   "source": [
    "# Recursion Practice Problems (1)"
   ]
  },
  {
   "cell_type": "markdown",
   "metadata": {},
   "source": [
    "## Problem 1\n",
    "\n",
    "リストに関する処理は, 全て再帰を用いて書き直すことが可能です.  \n",
    "ループやsum()メソッドを使わずに, 与えられた整数のリストの合計を再帰的に計算する関数 **calcSumRecursion** を定義してください.\n",
    "\n",
    "e.g.)   \n",
    "Input - [1, 2, 3, 4, 5, 6, 7, 8, 9, 10]  \n",
    "Output - 55"
   ]
  },
  {
   "cell_type": "code",
   "execution_count": 3,
   "metadata": {},
   "outputs": [],
   "source": [
    "def calcSumRecursion(n):\n",
    "    if n == []:\n",
    "        return 0\n",
    "    else:\n",
    "        return n[0] + calcSumRecursion(n[1:])\n",
    "    "
   ]
  },
  {
   "cell_type": "markdown",
   "metadata": {},
   "source": [
    "### Driver Code\n",
    "\n",
    "以下のセルを実行し, 上記で定義した関数をテストしてみましょう. "
   ]
  },
  {
   "cell_type": "code",
   "execution_count": 4,
   "metadata": {},
   "outputs": [
    {
     "name": "stdout",
     "output_type": "stream",
     "text": [
      "Sum of [1, 2, 3, 4, 5, 6, 7, 8, 9, 10]: 55\n",
      "Sum of [5]: 5\n",
      "Sum of []: 0\n"
     ]
    }
   ],
   "source": [
    "print('Sum of [1, 2, 3, 4, 5, 6, 7, 8, 9, 10]:', calcSumRecursion([1, 2, 3, 4, 5, 6, 7, 8, 9, 10]))\n",
    "print('Sum of [5]:', calcSumRecursion([5]))\n",
    "print('Sum of []:', calcSumRecursion([]))"
   ]
  },
  {
   "cell_type": "markdown",
   "metadata": {},
   "source": [
    "## Problem 2\n",
    "\n",
    "ある整数 **x** とソートされた整数のリストが与えられたときに, 2分探索を行い, リスト内に **x** が見つかればそのインデックスを返す関数 **binarySearch** を実装してください. ただし, 必要に応じて引数は追加してよいとします.  \n",
    "\n",
    "e.g.)    \n",
    "Input - x: 27, lst: [0, 1, 2, 3, 4, 5, 7, 11, 18, 19, 22, 27]   \n",
    "Output: 11"
   ]
  },
  {
   "cell_type": "code",
   "execution_count": 41,
   "metadata": {},
   "outputs": [],
   "source": [
    "def binarySearch(x,List,left,right):\n",
    "    if left <= right:\n",
    "        mid = left + (right - left) // 2\n",
    "        if List[mid] == x:\n",
    "            return mid\n",
    "        elif List[mid] > x:\n",
    "            return binarySearch(x,List,left,mid-1)\n",
    "        else:\n",
    "            return binarySearch(x,List,mid+1,right)\n",
    "    else:\n",
    "        return False"
   ]
  },
  {
   "cell_type": "markdown",
   "metadata": {},
   "source": [
    "### Driver Code\n",
    "\n",
    "以下のセルを実行し, 上記で定義した関数をテストしてみましょう. "
   ]
  },
  {
   "cell_type": "code",
   "execution_count": 42,
   "metadata": {},
   "outputs": [
    {
     "name": "stdout",
     "output_type": "stream",
     "text": [
      "Index of 19: 9\n",
      "Index of 30: False\n"
     ]
    }
   ],
   "source": [
    "lst = [0, 1, 2, 3, 4, 5, 7, 11, 18, 19, 22, 27]\n",
    "print('Index of 19:', binarySearch(19, lst, 0, len(lst)-1))\n",
    "print('Index of 30:', binarySearch(30, lst, 0, len(lst)-1))"
   ]
  },
  {
   "cell_type": "markdown",
   "metadata": {},
   "source": [
    "## Problem 3\n",
    "\n",
    "与えられたリストを **マージソート** (再帰的なソートアルゴリズム) を用いてソートする関数 **mergeSort** を定義してください.  \n",
    "https://www.hackerearth.com/ja/practice/algorithms/sorting/merge-sort/visualize/  \n",
    "\n",
    "e.g.)  \n",
    "Input - [4, 19, 3, 18, 27, 5, 2, 7, 11, 22, 0, 1]  \n",
    "Output - [0, 1, 2, 3, 4, 5, 7, 11, 18, 19, 22, 27]"
   ]
  },
  {
   "cell_type": "code",
   "execution_count": 11,
   "metadata": {},
   "outputs": [],
   "source": [
    "def mergeSort(array):\n",
    "    mid = len(array)                      \n",
    "    if mid > 1:                                    \n",
    "        left = mergeSort(array[:(mid/2)])              \n",
    "        right = mergeSort(array[(mid/2):])             \n",
    "        array = []                                 \n",
    "        while len(left) != 0 and len(right) != 0:   \n",
    "            if left[0] < right[0]:                 \n",
    "                array.append(left.pop(0))          \n",
    "            else:                                  \n",
    "                array.append(right.pop(0))  \n",
    "    return array"
   ]
  },
  {
   "cell_type": "markdown",
   "metadata": {},
   "source": [
    "### Driver Code\n",
    "\n",
    "以下のセルを実行し, 上記で定義した関数をテストしてみましょう. "
   ]
  },
  {
   "cell_type": "code",
   "execution_count": 12,
   "metadata": {},
   "outputs": [
    {
     "name": "stdout",
     "output_type": "stream",
     "text": [
      "Before sorting: [4, 19, 3, 18, 27, 5, 2, 7, 11, 22, 0, 1]\n"
     ]
    },
    {
     "ename": "TypeError",
     "evalue": "slice indices must be integers or None or have an __index__ method",
     "output_type": "error",
     "traceback": [
      "\u001b[0;31m---------------------------------------------------------------------------\u001b[0m",
      "\u001b[0;31mTypeError\u001b[0m                                 Traceback (most recent call last)",
      "\u001b[0;32m<ipython-input-12-450a38d451e7>\u001b[0m in \u001b[0;36m<module>\u001b[0;34m\u001b[0m\n\u001b[1;32m      1\u001b[0m \u001b[0mlst\u001b[0m \u001b[0;34m=\u001b[0m \u001b[0;34m[\u001b[0m\u001b[0;36m4\u001b[0m\u001b[0;34m,\u001b[0m \u001b[0;36m19\u001b[0m\u001b[0;34m,\u001b[0m \u001b[0;36m3\u001b[0m\u001b[0;34m,\u001b[0m \u001b[0;36m18\u001b[0m\u001b[0;34m,\u001b[0m \u001b[0;36m27\u001b[0m\u001b[0;34m,\u001b[0m \u001b[0;36m5\u001b[0m\u001b[0;34m,\u001b[0m \u001b[0;36m2\u001b[0m\u001b[0;34m,\u001b[0m \u001b[0;36m7\u001b[0m\u001b[0;34m,\u001b[0m \u001b[0;36m11\u001b[0m\u001b[0;34m,\u001b[0m \u001b[0;36m22\u001b[0m\u001b[0;34m,\u001b[0m \u001b[0;36m0\u001b[0m\u001b[0;34m,\u001b[0m \u001b[0;36m1\u001b[0m\u001b[0;34m]\u001b[0m\u001b[0;34m\u001b[0m\u001b[0;34m\u001b[0m\u001b[0m\n\u001b[1;32m      2\u001b[0m \u001b[0mprint\u001b[0m\u001b[0;34m(\u001b[0m\u001b[0;34m'Before sorting:'\u001b[0m\u001b[0;34m,\u001b[0m \u001b[0mlst\u001b[0m\u001b[0;34m)\u001b[0m\u001b[0;34m\u001b[0m\u001b[0;34m\u001b[0m\u001b[0m\n\u001b[0;32m----> 3\u001b[0;31m \u001b[0mmergeSort\u001b[0m\u001b[0;34m(\u001b[0m\u001b[0mlst\u001b[0m\u001b[0;34m)\u001b[0m\u001b[0;34m\u001b[0m\u001b[0;34m\u001b[0m\u001b[0m\n\u001b[0m\u001b[1;32m      4\u001b[0m \u001b[0mprint\u001b[0m\u001b[0;34m(\u001b[0m\u001b[0;34m'After sorting:'\u001b[0m\u001b[0;34m,\u001b[0m \u001b[0mlst\u001b[0m\u001b[0;34m)\u001b[0m\u001b[0;34m\u001b[0m\u001b[0;34m\u001b[0m\u001b[0m\n",
      "\u001b[0;32m<ipython-input-11-afcd2c644222>\u001b[0m in \u001b[0;36mmergeSort\u001b[0;34m(array)\u001b[0m\n\u001b[1;32m      2\u001b[0m     \u001b[0mmid\u001b[0m \u001b[0;34m=\u001b[0m \u001b[0mlen\u001b[0m\u001b[0;34m(\u001b[0m\u001b[0marray\u001b[0m\u001b[0;34m)\u001b[0m\u001b[0;34m\u001b[0m\u001b[0;34m\u001b[0m\u001b[0m\n\u001b[1;32m      3\u001b[0m     \u001b[0;32mif\u001b[0m \u001b[0mmid\u001b[0m \u001b[0;34m>\u001b[0m \u001b[0;36m1\u001b[0m\u001b[0;34m:\u001b[0m\u001b[0;34m\u001b[0m\u001b[0;34m\u001b[0m\u001b[0m\n\u001b[0;32m----> 4\u001b[0;31m         \u001b[0mleft\u001b[0m \u001b[0;34m=\u001b[0m \u001b[0mmergeSort\u001b[0m\u001b[0;34m(\u001b[0m\u001b[0marray\u001b[0m\u001b[0;34m[\u001b[0m\u001b[0;34m:\u001b[0m\u001b[0;34m(\u001b[0m\u001b[0mmid\u001b[0m\u001b[0;34m/\u001b[0m\u001b[0;36m2\u001b[0m\u001b[0;34m)\u001b[0m\u001b[0;34m]\u001b[0m\u001b[0;34m)\u001b[0m\u001b[0;34m\u001b[0m\u001b[0;34m\u001b[0m\u001b[0m\n\u001b[0m\u001b[1;32m      5\u001b[0m         \u001b[0mright\u001b[0m \u001b[0;34m=\u001b[0m \u001b[0mmergeSort\u001b[0m\u001b[0;34m(\u001b[0m\u001b[0marray\u001b[0m\u001b[0;34m[\u001b[0m\u001b[0;34m(\u001b[0m\u001b[0mmid\u001b[0m\u001b[0;34m/\u001b[0m\u001b[0;36m2\u001b[0m\u001b[0;34m)\u001b[0m\u001b[0;34m:\u001b[0m\u001b[0;34m]\u001b[0m\u001b[0;34m)\u001b[0m\u001b[0;34m\u001b[0m\u001b[0;34m\u001b[0m\u001b[0m\n\u001b[1;32m      6\u001b[0m         \u001b[0marray\u001b[0m \u001b[0;34m=\u001b[0m \u001b[0;34m[\u001b[0m\u001b[0;34m]\u001b[0m\u001b[0;34m\u001b[0m\u001b[0;34m\u001b[0m\u001b[0m\n",
      "\u001b[0;31mTypeError\u001b[0m: slice indices must be integers or None or have an __index__ method"
     ]
    }
   ],
   "source": [
    "lst = [4, 19, 3, 18, 27, 5, 2, 7, 11, 22, 0, 1]\n",
    "print('Before sorting:', lst)\n",
    "mergeSort(lst)\n",
    "print('After sorting:', lst)"
   ]
  },
  {
   "cell_type": "markdown",
   "metadata": {},
   "source": [
    "## Problem 4\n",
    "\n",
    "ハノイの塔の途中経過をプリントする関数 **towerOfHanoi** を定義してください. "
   ]
  },
  {
   "cell_type": "code",
   "execution_count": 13,
   "metadata": {},
   "outputs": [],
   "source": [
    "def towerOfHanoi(n,from_stack,to_stack,tmp): \n",
    "    if n == 1:\n",
    "        print(f\"Move {n} disck from {from_stack} to {to_stack}.\")\n",
    "        return\n",
    "    towerOfHanoi(n-1, from_stack, tmp, to_stack)\n",
    "    print(f\"Move {n} disck from {from_stack} to {to_stack}.\")\n",
    "    towerOfHanoi(n-1, tmp, to_stack, from_stack)"
   ]
  },
  {
   "cell_type": "markdown",
   "metadata": {},
   "source": [
    "### Driver Code\n",
    "\n",
    "以下のセルを実行し, 上記で定義した関数をテストしてみましょう. "
   ]
  },
  {
   "cell_type": "code",
   "execution_count": 17,
   "metadata": {},
   "outputs": [
    {
     "name": "stdout",
     "output_type": "stream",
     "text": [
      "Move 1 disck from A to C.\n",
      "Move 2 disck from A to B.\n",
      "Move 1 disck from C to B.\n",
      "Move 3 disck from A to C.\n",
      "Move 1 disck from B to A.\n",
      "Move 2 disck from B to C.\n",
      "Move 1 disck from A to C.\n"
     ]
    }
   ],
   "source": [
    "n = 3\n",
    "towerOfHanoi(n, 'A', 'C', 'B')  "
   ]
  },
  {
   "cell_type": "code",
   "execution_count": null,
   "metadata": {},
   "outputs": [],
   "source": []
  }
 ],
 "metadata": {
  "kernelspec": {
   "display_name": "Python 3",
   "language": "python",
   "name": "python3"
  },
  "language_info": {
   "codemirror_mode": {
    "name": "ipython",
    "version": 3
   },
   "file_extension": ".py",
   "mimetype": "text/x-python",
   "name": "python",
   "nbconvert_exporter": "python",
   "pygments_lexer": "ipython3",
   "version": "3.7.4"
  }
 },
 "nbformat": 4,
 "nbformat_minor": 2
}
