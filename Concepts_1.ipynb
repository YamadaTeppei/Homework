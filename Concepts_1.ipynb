{
 "cells": [
  {
   "cell_type": "markdown",
   "metadata": {},
   "source": [
    "## 以下の各キーワードの意味と違いを調べ、わかりやすく説明してください."
   ]
  },
  {
   "cell_type": "markdown",
   "metadata": {},
   "source": [
    "#### プロセスとスレッド (Processes vs. Threads)"
   ]
  },
  {
   "cell_type": "markdown",
   "metadata": {},
   "source": [
    "プロセスとは１つの物事に対する経過や手順でありスレッドはプロセスの経過や手順を構成する要素である。\n",
    "\n",
    "プロセスはOSから見たっ１つの実行単位でありスレッドはプロセス内の処理の単位である。\n",
    "\n",
    "例）　　手を上げる、声を出すといった行動をプロセスそしてその行動をするための筋肉の動きがスレッドである。"
   ]
  },
  {
   "cell_type": "markdown",
   "metadata": {},
   "source": [
    "#### マルチプロッセシングとマルチプログラミング (Multi-processing vs. Multi-programming)"
   ]
  },
  {
   "cell_type": "markdown",
   "metadata": {},
   "source": [
    "マルチプロッセシングとマルチプログラミングは主に同じ意味として使われるが違いとしては、マルチプロセッシングは複数のCPUを使い同時並列処理を行うのに対して、マルチプログラミングはCPUの数に関係なく仮想敵に同時並列処理を行う。\n",
    "\n",
    "・マルチプロッセシングは複数のCPUを使い同時並列処理を行うことによりは寸分の狂いもなく全く異なった処理を同時にすることが可能である。\n",
    "\n",
    "・マルチプログラミングはCPUの数に関係なく（例え１つであっても）複数の処理のプロセスを少しずつ交代させながら処理していることによりまるで同時に処理しているかに見せる。\n",
    "\n",
    "例）　　右手で数学の問題を解きながら左手で英語の問題を解いているのがマルチプロセッシング　　　マルチプログラミングは右手で数学の問題を一問解いた後右手で英語の問題を一問解くを繰り返している状態"
   ]
  },
  {
   "cell_type": "markdown",
   "metadata": {},
   "source": [
    "#### 非同期処理と同期処理 (Synchronous vs. Asynchronous)"
   ]
  },
  {
   "cell_type": "markdown",
   "metadata": {},
   "source": [
    "非同期処理とは１つのタスクでの処理をしている際に別のタスクの処理も行うこと、同期処理は逆く。\n",
    "\n",
    "例）１つのプログラム内の関数でサーバーと通信している間に他の関数を実行することを非同期処理　　その逆で上から順に処理し処理が終わらない限り下へ行かないことを同期処理"
   ]
  },
  {
   "cell_type": "markdown",
   "metadata": {},
   "source": [
    "#### スタックスペースとヒープスペース (Stack vs. Heap)"
   ]
  },
  {
   "cell_type": "markdown",
   "metadata": {},
   "source": [
    "・スタックスペースとは入力された順に並べられ最後に入力された要素から出力されるデータ領域である。\n",
    "\n",
    "・ヒープスペースとは入力の順番に関係なく任意の要素を出力するデータ領域である。\n",
    "\n",
    "例）　　人が横並びで一人しか通れない先の行き止まりの細道は複数人っは行ったら最後に入った人から順に出ることしかできないそんな細道がスッタクスペース　　ヒープスペースは人が横並びで何人でも通れる道または広場は複数人入っても出たい人から好きなように出ることができるそんな道\n",
    "\n",
    "\n",
    "madamada"
   ]
  }
 ],
 "metadata": {
  "kernelspec": {
   "display_name": "Python 3",
   "language": "python",
   "name": "python3"
  },
  "language_info": {
   "codemirror_mode": {
    "name": "ipython",
    "version": 3
   },
   "file_extension": ".py",
   "mimetype": "text/x-python",
   "name": "python",
   "nbconvert_exporter": "python",
   "pygments_lexer": "ipython3",
   "version": "3.7.4"
  }
 },
 "nbformat": 4,
 "nbformat_minor": 2
}
