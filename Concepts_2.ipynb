{
 "cells": [
  {
   "cell_type": "markdown",
   "metadata": {},
   "source": [
    "# Conceptual Questions #2:\n",
    "\n",
    "### 以下の各キーワードの意味と違いを調べ、分かりやすく説明してください."
   ]
  },
  {
   "cell_type": "markdown",
   "metadata": {},
   "source": [
    "### 1. ダングリングポインターとメモリーリーク (Dangling Pointer vs. Memory Leak)"
   ]
  },
  {
   "cell_type": "markdown",
   "metadata": {},
   "source": [
    "ダングリングポインター　　すでに解放されたメモリ領域にアクセスしようとしているポインタ\n",
    "\n",
    "                                nullpoinntar\n",
    "\n",
    "メモリーリーク　　獲得したメモリ領域を解放し忘れること（これを繰り返すことにより使用可能なメモリ領域がなくなっていくことになる）\n",
    "\n",
    "            gabr-zikorekuta-"
   ]
  },
  {
   "cell_type": "markdown",
   "metadata": {},
   "source": [
    "### 2. レジスター・メインメモリー・ディスク (Register vs. Main Memory vs. Disk/Secondary Memory)"
   ]
  },
  {
   "cell_type": "markdown",
   "metadata": {},
   "source": [
    "レジスター　　CPU内部部品で容量は少ないが高速動作、高速通信のできる記憶装置、基本的にCPU設計時から使用目的が想定されていることが多い（物理的にも高速）\n",
    "\n",
    "メインメモリー　　CPUの外部に設置された　レジスタよりは容量の多い記憶装置（主記憶装置）\n",
    "\n",
    "ディスク　　コンピュータ外部に設置されたハードディスク、DVD,CDなどの記憶装置（外部記憶装置、補助記憶装置、ストレージ）"
   ]
  },
  {
   "cell_type": "markdown",
   "metadata": {},
   "source": [
    "### 3.  仮想メモリーと物理メモリー (Virtual Memory vs. Physical Memory) + 仮想メモリを使うメリットは?"
   ]
  },
  {
   "cell_type": "markdown",
   "metadata": {},
   "source": [
    "仮想メモリー　　OSによるメモリ管理方法の１つで物理的なアドレスの他に仮想的なアドレスを作ることにより、細切れのメモリ領域を１つの連なったメモリ領域として認識したりストレージのメモリ領域をメインメモリのメモリ領域として認識することができる。（物理メモリ内の使われていないデータの入った領域とストレージ内のメインメモリとして使われている領域とをスワップ（入れ替え）をすることにより処理している）\n",
    "\n",
    "物理メモリー　　　コンピュータに装着、内臓されている物理的実体としてのメインメモリー（ストレージは含まれない）\n",
    "\n",
    "メリット　  まず１つ目が細切れとなったメモリ領域を連なったメモリ領域として認識することにより物理メモリを無駄なく使うことができる。\n",
    "　　　　　　　　　　　　次にストレージのメモリ領域を使うことにより物理メモリ以上の処理を行うことができる。（メモリ領域の使用には波があり低いところでは物理メモリ内ですらほとんど使わない状態で高いところでは物理メモリを超えて使用するため物理メモリを増設するよりもコスト的に小さくなる）"
   ]
  },
  {
   "cell_type": "markdown",
   "metadata": {},
   "source": [
    "### 4.  並行処理と並列処理 (Concurrency vs. Parallelism)"
   ]
  },
  {
   "cell_type": "markdown",
   "metadata": {},
   "source": [
    "並行処理　　１つのCPUにより複数の処理を細かく分け交互に進めていく処理、人の目から見ると同時に見える（マルチプログラミング）\n",
    "\n",
    "並列処理　　複数のCPUにより複数の処理を同時に進めていく処理、理論的にも同時（マルチプロセッシング）"
   ]
  },
  {
   "cell_type": "markdown",
   "metadata": {},
   "source": [
    "### 5. デッドロック (Deadlock)"
   ]
  },
  {
   "cell_type": "markdown",
   "metadata": {},
   "source": [
    "デッドロック　　複数のプログラムが互いに他のプログラムの結果待ちになてしまい動かなくってしまった状態\n",
    "\n",
    "例）　　プログラムXがプログラムZの結果待ちでプログラムYがプログラムXの結果待ち、プログラムZはプログラムYの結果待ちと行ったようにプログラムの結果が出ないようになってしまった状態"
   ]
  }
 ],
 "metadata": {
  "kernelspec": {
   "display_name": "Python 3",
   "language": "python",
   "name": "python3"
  },
  "language_info": {
   "codemirror_mode": {
    "name": "ipython",
    "version": 3
   },
   "file_extension": ".py",
   "mimetype": "text/x-python",
   "name": "python",
   "nbconvert_exporter": "python",
   "pygments_lexer": "ipython3",
   "version": "3.7.4"
  }
 },
 "nbformat": 4,
 "nbformat_minor": 2
}
