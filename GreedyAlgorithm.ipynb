{
 "cells": [
  {
   "cell_type": "markdown",
   "metadata": {},
   "source": [
    "# Greedy Algorithm (貪欲法)\n",
    "\n",
    "以下の問題は, 貪欲法を用いると簡単に実装することができます. それでは実際に問題を解いて, アルゴリズム力を養いましょう."
   ]
  },
  {
   "cell_type": "markdown",
   "metadata": {},
   "source": [
    "## Problem 1\n",
    "\n",
    "あるリストが与えられたとき, そのリスト内の要素を掛け合わせてできる最小の値を求めてください.  ただし, 時間計算量はO(n)に抑えてください.  \n",
    "\n",
    "e.g.)  \n",
    "Input: [-2, -1, 3, -3, 4] - Output: -72  \n",
    "Input: [0, -3, 1, 4, -4, 5] - Output: -80  \n",
    "Input: [3, 2, 5, 1, 9] - Output: 1"
   ]
  },
  {
   "cell_type": "code",
   "execution_count": 15,
   "metadata": {},
   "outputs": [],
   "source": [
    "def findMinProductSubset(lst):    \n",
    "    lst.sort()\n",
    "    m = 1\n",
    "    count = 0\n",
    "    # lst内の負の数の個数を数えながら０以上の正の数を掛け合わせる\n",
    "    for i in lst:\n",
    "        if i < 0:\n",
    "            count += 1\n",
    "        elif i > 0:\n",
    "            m *= i\n",
    "    #　lst内に負の数がなければlst内の最小の値を返す\n",
    "    if count == 0:\n",
    "        return lst[0]\n",
    "    #　lst内の負の数が偶数ならば負の数の中の最大の値を除いて掛け合わせる\n",
    "    elif count % 2 == 0:\n",
    "        if lst[0] == 0:\n",
    "            return 0\n",
    "        for i in range(count-1):\n",
    "            m *= lst[i]\n",
    "        return m\n",
    "    #　lst内の負の数が奇数ならば負の数を全て掛け合わせる\n",
    "    else:\n",
    "        for i in range(count):\n",
    "            m *= lst[i]\n",
    "        return m\n",
    "            \n",
    "        "
   ]
  },
  {
   "cell_type": "markdown",
   "metadata": {},
   "source": [
    "## Driver Code\n",
    "\n",
    "それでは, 以下のセルを実行して上記で定義した関数をテストしてみましょう."
   ]
  },
  {
   "cell_type": "code",
   "execution_count": 16,
   "metadata": {},
   "outputs": [
    {
     "name": "stdout",
     "output_type": "stream",
     "text": [
      "lst1: -72\n",
      "lst2: -80\n",
      "lst3: 1\n"
     ]
    }
   ],
   "source": [
    "lst1 = [-2, -1, 3, -3, 4]\n",
    "lst2 = [0, -3, 1, 4, -4, 5]\n",
    "lst3 = [3, 2, 5, 1, 9]\n",
    "\n",
    "print('lst1:', findMinProductSubset(lst1))\n",
    "print('lst2:', findMinProductSubset(lst2))\n",
    "print('lst3:', findMinProductSubset(lst3))"
   ]
  },
  {
   "cell_type": "markdown",
   "metadata": {},
   "source": [
    "## Problem 2\n",
    "\n",
    "`(開始時間, 終了時間)`という, 仕事にかかる時間を表したタプルのリストが与えられたときに, 仕事同士が被らずかつ仕事量の合計が最大になるような, 仕事のリストを返してください.  \n",
    "\n",
    "e.g.)  \n",
    "Input: [(0, 6), (1, 4), (3, 5), (3, 8), (4, 7), (5, 9), (6, 10), (8, 11)] - Output: [(1, 4), (4, 7), (8, 11)]  \n",
    "Input: [(3, 5), (2, 4), (1, 3), (3, 7), (4, 6), (6, 9)] - Output: [(1, 3), (3, 5), (6, 9)]"
   ]
  },
  {
   "cell_type": "code",
   "execution_count": 43,
   "metadata": {},
   "outputs": [],
   "source": [
    "def findMaxActivities(jobs):\n",
    "    # 「jobs」を終了時間で昇順にソート\n",
    "    sorted_jobs = sorted(jobs,key = lambda x: x[1])\n",
    "    \n",
    "    lst = [sorted_jobs[0]]\n",
    "    # 次のfor文で使うのに最初の要素が邪魔なので削除\n",
    "    del(sorted_jobs[0])\n",
    "    #　「lst」内の最後に入れた要素の終了時間と「sorted_jobs」の開始時間を、順次比べ開始時間が大きければ「lst」に入れる\n",
    "    for i in sorted_jobs:\n",
    "        if i[0] >= lst[-1][1]:\n",
    "            lst.append(i)\n",
    "    return lst"
   ]
  },
  {
   "cell_type": "markdown",
   "metadata": {},
   "source": [
    "## Driver Code\n",
    "\n",
    "それでは, 以下のセルを実行して上記で定義した関数をテストしてみましょう."
   ]
  },
  {
   "cell_type": "code",
   "execution_count": 44,
   "metadata": {},
   "outputs": [
    {
     "name": "stdout",
     "output_type": "stream",
     "text": [
      "Jobs#1: [(1, 4), (4, 7), (8, 11)]\n",
      "Jobs#2: [(1, 3), (3, 5), (6, 9)]\n"
     ]
    }
   ],
   "source": [
    "jobs1 = [(0, 6), (1, 4), (3, 5), (3, 8), (4, 7), (5, 9), (6, 10), (8, 11)]\n",
    "jobs2 = [(3, 5), (2, 4), (1, 3), (3, 7), (4, 6), (6, 9)]\n",
    "print('Jobs#1:', end=' ')\n",
    "print(findMaxActivities(jobs1))\n",
    "print('Jobs#2:', end=' ')\n",
    "print(findMaxActivities(jobs2))"
   ]
  },
  {
   "cell_type": "code",
   "execution_count": null,
   "metadata": {},
   "outputs": [],
   "source": []
  }
 ],
 "metadata": {
  "kernelspec": {
   "display_name": "Python 3",
   "language": "python",
   "name": "python3"
  },
  "language_info": {
   "codemirror_mode": {
    "name": "ipython",
    "version": 3
   },
   "file_extension": ".py",
   "mimetype": "text/x-python",
   "name": "python",
   "nbconvert_exporter": "python",
   "pygments_lexer": "ipython3",
   "version": "3.7.4"
  }
 },
 "nbformat": 4,
 "nbformat_minor": 2
}
