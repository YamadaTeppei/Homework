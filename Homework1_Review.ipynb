{
 "cells": [
  {
   "cell_type": "markdown",
   "metadata": {},
   "source": [
    "# Homework1 Review Problems\n",
    "\n",
    "### Problem1 (関数について・1)\n",
    "\n",
    "\"Hello world.\"という文字列を出力する(プリントする)関数 **printHelloWorld()** を定義してください."
   ]
  },
  {
   "cell_type": "code",
   "execution_count": 1,
   "metadata": {},
   "outputs": [
    {
     "name": "stdout",
     "output_type": "stream",
     "text": [
      "Hello World\n"
     ]
    }
   ],
   "source": [
    "def printHelloWorld():\n",
    "    print(\"Hello World\")\n",
    "printHelloWorld()"
   ]
  },
  {
   "cell_type": "markdown",
   "metadata": {},
   "source": [
    "### Problem2 (関数について・2)\n",
    "\n",
    "\"Hello 〇〇\"という文字列(〇〇は名前)を出力する関数 **greeting()** を定義してください."
   ]
  },
  {
   "cell_type": "code",
   "execution_count": 2,
   "metadata": {},
   "outputs": [
    {
     "name": "stdout",
     "output_type": "stream",
     "text": [
      "HelloYamada\n"
     ]
    }
   ],
   "source": [
    "def greeting(name):\n",
    "    return \"Hello \" + name\n",
    "print(greeting(\"Yamada\"))"
   ]
  },
  {
   "cell_type": "markdown",
   "metadata": {},
   "source": [
    "### Problem3 (関数について・3)\n",
    "\n",
    "3つの値を取り, その平均を計算する関数 **calcAverage()** を定義してください.  \n",
    "ただし, リストやループなどを使用してはいけません.  \n",
    "\n",
    "e.g.  \n",
    "calcAverage(89, 76, 92) --> 85.67"
   ]
  },
  {
   "cell_type": "code",
   "execution_count": 3,
   "metadata": {},
   "outputs": [
    {
     "name": "stdout",
     "output_type": "stream",
     "text": [
      "85.66666666666667\n"
     ]
    }
   ],
   "source": [
    "def calcAverage(x,y,z):\n",
    "    return ( x + y + z ) / 3\n",
    "print(calcAverage(89,76,92))"
   ]
  },
  {
   "cell_type": "markdown",
   "metadata": {},
   "source": [
    "### Problem4 (関数について・4)\n",
    "\n",
    "以下のコードの問題点を指摘し, エラーを解消してください.   "
   ]
  },
  {
   "cell_type": "code",
   "execution_count": 4,
   "metadata": {},
   "outputs": [
    {
     "name": "stdout",
     "output_type": "stream",
     "text": [
      "10\n"
     ]
    }
   ],
   "source": [
    "# 関数の定義\n",
    "def damnFunc(x,y):\n",
    "    output = x // y\n",
    "    return output                 # printでは画面に出力するだけで返し値となっていない\n",
    "    \n",
    "# 関数の呼び出し\n",
    "ret = damnFunc(10,1)              # ０で割ることは出来ない\n",
    "print(ret)"
   ]
  },
  {
   "cell_type": "markdown",
   "metadata": {},
   "source": [
    "### Problem5 (クロージャーについて・1)\n",
    "\n",
    "呼び出されるごとに, 与えられた数から1を引いた値を返すクロージャーを定義してください.  \n",
    "ただし, 外側の関数(エンクロージャー)を **initializeCounter()** とし, 内側の関数(クロージャー)を **countDown()** としてください.\n",
    "\n",
    "e.g.  \n",
    "10を与えると, *9, 8, 7, ...* とカウントしていく"
   ]
  },
  {
   "cell_type": "code",
   "execution_count": 5,
   "metadata": {},
   "outputs": [
    {
     "name": "stdout",
     "output_type": "stream",
     "text": [
      "9\n",
      "8\n",
      "7\n",
      "6\n",
      "5\n",
      "4\n"
     ]
    }
   ],
   "source": [
    "def initializeCounter(x):\n",
    "    def countDown():\n",
    "        nonlocal x\n",
    "        x -= 1\n",
    "        return x\n",
    "    return countDown\n",
    "count = initializeCounter(10)\n",
    "print(count())\n",
    "print(count())\n",
    "print(count())\n",
    "print(count())\n",
    "print(count())\n",
    "print(count())"
   ]
  },
  {
   "cell_type": "markdown",
   "metadata": {},
   "source": [
    "### Problem6 (クロージャーについて・2)\n",
    "\n",
    "8という整数を与えたときに, *6, 4, 2, 3, 1* という値を表示するプログラムをクロージャーを用いて定義してください.  \n",
    "ただし, ループやリストを用いてはならないため, クロージャーを5回呼び出すことで上記のアウトプットが得られます.  "
   ]
  },
  {
   "cell_type": "code",
   "execution_count": 13,
   "metadata": {},
   "outputs": [
    {
     "name": "stdout",
     "output_type": "stream",
     "text": [
      "6\n",
      "4\n",
      "2\n",
      "3\n",
      "1\n"
     ]
    }
   ],
   "source": [
    "def a(x):\n",
    "    y = 0\n",
    "    z = 10\n",
    "    def b():\n",
    "        nonlocal x,y\n",
    "        y += 1\n",
    "        if y != 4:\n",
    "            x -= 2\n",
    "        else:\n",
    "            x += 1\n",
    "        return x\n",
    "    return b\n",
    "c = a(8)\n",
    "print(c())\n",
    "print(c())\n",
    "print(c())\n",
    "print(c())\n",
    "print(c())"
   ]
  },
  {
   "cell_type": "markdown",
   "metadata": {},
   "source": [
    "### Problem7 (無名関数と引数のデフォルト値について)\n",
    "\n",
    "Problem6のクロージャーは処理が簡単であるため, 無名関数として書き直すこともできそうです. 無名関数を用いて, Problem6を書き直してください.  \n",
    "また, 初期値が与えられなかった場合には, デフォルト値で10を使用する(10からカウントする)ように上記を書き直してください.  \n",
    "つまり, デフォルト値においては, *8, 6, 4, 5, 3* が出力される.  "
   ]
  },
  {
   "cell_type": "code",
   "execution_count": 24,
   "metadata": {},
   "outputs": [
    {
     "name": "stdout",
     "output_type": "stream",
     "text": [
      "6\n",
      "4\n",
      "2\n",
      "3\n",
      "1\n"
     ]
    }
   ],
   "source": []
  },
  {
   "cell_type": "markdown",
   "metadata": {},
   "source": [
    "### Problem8 (最後の確認)\n",
    "\n",
    "1. `return`と`print`の違いを説明してください.  \n",
    "2. 関数とクロージャーの決定的な違いはなんですか? (ヒント: 複数回呼び出す際の結果を比較してどう違うかを考える)"
   ]
  },
  {
   "cell_type": "code",
   "execution_count": null,
   "metadata": {},
   "outputs": [],
   "source": [
    "#1.returnは関数の返し値なので宣言した値を取り出して使うことができる 。\n",
    "   　#printは関数の返し値でなくただの出力なので値を取り出して使うことが出来ない。"
   ]
  },
  {
   "cell_type": "code",
   "execution_count": null,
   "metadata": {},
   "outputs": [],
   "source": [
    "#2.関数は実行終了後に実行結果以外を破棄するので関数内の変数なども破棄され何度実行しても結果は同じ。\n",
    "    #クロージャーは実行終了後に実行結果以外の過程も保持されているため、関数内の変数の値なども保持されるので実行のたびに結果が変わる。"
   ]
  }
 ],
 "metadata": {
  "kernelspec": {
   "display_name": "Python 3",
   "language": "python",
   "name": "python3"
  },
  "language_info": {
   "codemirror_mode": {
    "name": "ipython",
    "version": 3
   },
   "file_extension": ".py",
   "mimetype": "text/x-python",
   "name": "python",
   "nbconvert_exporter": "python",
   "pygments_lexer": "ipython3",
   "version": "3.7.4"
  }
 },
 "nbformat": 4,
 "nbformat_minor": 2
}
