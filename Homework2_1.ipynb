{
 "cells": [
  {
   "cell_type": "markdown",
   "metadata": {},
   "source": [
    "# Homework 2 *(vol.1)*\n",
    "\n",
    "#### トピック: 条件文, ループ, リスト, 文字列\n",
    "\n",
    "### Problem 1\n",
    "\n",
    "以下のコードを穴埋めして, 与えられた数が奇数かどうかを判定する関数 **isOdd()** を完成させてください.  \n",
    "*`#`*を外すことによって, コードが有効になります.\n",
    "\n",
    "e.g.)  \n",
    "Input: 5 -> Output: True  \n",
    "Input: 6 -> Output: False"
   ]
  },
  {
   "cell_type": "code",
   "execution_count": 5,
   "metadata": {},
   "outputs": [
    {
     "name": "stdout",
     "output_type": "stream",
     "text": [
      "True\n",
      "False\n"
     ]
    }
   ],
   "source": [
    "def isOdd(n):\n",
    "    if n%2 == 1:     # nを2で割った時にあまりが出る場合\n",
    "        return True\n",
    "    else:          # nを2で割った時にあまりが出ない場合\n",
    "        return False\n",
    "\n",
    "print(isOdd(5))\n",
    "print(isOdd(6))"
   ]
  },
  {
   "cell_type": "markdown",
   "metadata": {},
   "source": [
    "### Problem 2\n",
    "\n",
    "以下のコードを穴埋めして, 与えられた数が偶数かどうかを判定する関数 **isEven()** を完成させてください.  \n",
    "ただし, 条件文を用いてはならず, Problem1で定義した関数 **isOdd()** は使用できるものとします.  \n",
    "*`#`*を外すことによって, コードが有効になります.\n",
    "\n",
    "e.g.)  \n",
    "Input: 5 -> Output: False  \n",
    "Input: 6 -> Output: True"
   ]
  },
  {
   "cell_type": "code",
   "execution_count": 6,
   "metadata": {},
   "outputs": [
    {
     "name": "stdout",
     "output_type": "stream",
     "text": [
      "False\n",
      "True\n"
     ]
    }
   ],
   "source": [
    "def isEven(n):\n",
    "    return isOdd(n) == False # isOdd()を用いて一行で書くことができる\n",
    "\n",
    "print(isEven(5))\n",
    "print(isEven(6))"
   ]
  },
  {
   "cell_type": "markdown",
   "metadata": {},
   "source": [
    "### Problem 3\n",
    "\n",
    "以下のコードを穴埋めして, 与えられた文字列の長さ(スペースは**含まない**)を返す関数 **findLength()** を完成させてください.  \n",
    "ただし, Pythonの組み込みメソッドである **len()** を使用してはいけません.  \n",
    "*`#`*を外すことによって, コードが有効になります.  \n",
    "\n",
    "e.g.)  \n",
    "Input: \"Hello\"       -> Output: 5  \n",
    "Input: \"Hello World\" -> Output: 10"
   ]
  },
  {
   "cell_type": "code",
   "execution_count": 7,
   "metadata": {},
   "outputs": [
    {
     "name": "stdout",
     "output_type": "stream",
     "text": [
      "5\n",
      "10\n"
     ]
    }
   ],
   "source": [
    "def findLength(s):\n",
    "    count = 0         # 文字列の長さを格納する変数を初期化する\n",
    "    for i in s:\n",
    "        if i != \" \":     # 文字がスペースでない場合のみ, countをアップデートする\n",
    "            count += 1\n",
    "        else:          # 文字がスペースである場合, なにもしない\n",
    "            pass\n",
    "    return count\n",
    "\n",
    "print(findLength(\"Hello\"))\n",
    "print(findLength(\"Hello World\"))"
   ]
  },
  {
   "cell_type": "markdown",
   "metadata": {},
   "source": [
    "### Problem 4\n",
    "\n",
    "以下のコードを穴埋めして, 与えられた文字列の長さ(スペースは**含まない**)が奇数かどうかを判定する関数 **isOddLength()** を完成させてください.  \n",
    "ただし, Pythonの組み込みメソッドである **len()** を使用してはならず, Problem1で定義した関数 **isOdd()** は使用できるものとします.  \n",
    "*`#`*を外すことによって, コードが有効になります.  \n",
    "\n",
    "e.g.)  \n",
    "Input: \"Hello\"       -> Output: True  \n",
    "Input: \"Hello World\" -> Output: False"
   ]
  },
  {
   "cell_type": "code",
   "execution_count": 8,
   "metadata": {},
   "outputs": [
    {
     "name": "stdout",
     "output_type": "stream",
     "text": [
      "True\n",
      "False\n"
     ]
    }
   ],
   "source": [
    "def isOddLength(s):\n",
    "    count = 0          # 文字列の長さを格納する変数を初期化する\n",
    "    for i in s:\n",
    "        if i != \" \":     # 文字がスペースでない場合のみ, countをアップデートする\n",
    "            count += 1\n",
    "        else:          # 文字がスペースである場合, なにもしない\n",
    "            pass\n",
    "    return isOdd(count)\n",
    "\n",
    "print(isOddLength(\"Hello\"))\n",
    "print(isOddLength(\"Hello World\"))"
   ]
  },
  {
   "cell_type": "markdown",
   "metadata": {},
   "source": [
    "Q: 上記のコードの問題点は何でしょうか？"
   ]
  },
  {
   "cell_type": "markdown",
   "metadata": {},
   "source": [
    "A: *ここに答えを入力*"
   ]
  },
  {
   "cell_type": "markdown",
   "metadata": {},
   "source": [
    "### Problem 5\n",
    "\n",
    "以下のコードを穴埋めして, 与えられた文字列の長さ(スペースは**含まない**)が等しいかを判定する関数 **compareLength()** を完成させてください.  \n",
    "ただし, Pythonの組み込みメソッドである **len()** を使用してはいけません.  \n",
    "*`#`*を外すことによって, コードが有効になります.  \n",
    "\n",
    "e.g.)  \n",
    "Input: \"dog\", \"cat\" -> Output: True  \n",
    "Input: \"serendipity\", \"Descartes\" -> Output: False"
   ]
  },
  {
   "cell_type": "code",
   "execution_count": 9,
   "metadata": {},
   "outputs": [
    {
     "name": "stdout",
     "output_type": "stream",
     "text": [
      "True\n",
      "False\n"
     ]
    }
   ],
   "source": [
    "def compareLength(s1, s2):\n",
    "    count_s1 = 0             # s1の長さを格納する変数を初期化する         \n",
    "    count_s2 = 0             # s2の長さを格納する変数を初期化する\n",
    "    \n",
    "    for i in s1:\n",
    "        if i != \" \":           # 文字がスペースでない場合のみ, count_s1をアップデートする\n",
    "            count_s1 += 1\n",
    "    for j in s2:\n",
    "        if j != \" \":           # 文字がスペースでない場合のみ, count_s2をアップデートする\n",
    "            count_s2 += 1\n",
    "\n",
    "    if count_s1 == count_s2:               # s1の長さとs2の長さを比べ, 等しい場合はTrueを返す\n",
    "        return True\n",
    "    else:                    # 等しくない場合はFalseを返す\n",
    "        return False\n",
    "\n",
    "print(compareLength(\"dog\", \"cat\"))\n",
    "print(compareLength(\"serendipity\", \"Descartes\"))"
   ]
  },
  {
   "cell_type": "markdown",
   "metadata": {},
   "source": [
    "### Problem 6\n",
    "\n",
    "以下のコードを穴埋めして, 与えられた文字列(スペースを**含む**)が等しいかを判定する関数 **compareStrings()** を完成させてください.  \n",
    "ただし, Pythonの組み込みメソッドである **len()** を使用してはならず, Problem5で定義した関数 **compareLength()** は使用できるものとします.  \n",
    "*`#`*を外すことによって, コードが有効になります.  \n",
    "\n",
    "e.g.)  \n",
    "Input: \"dog\", \"cat\" -> Output: False  \n",
    "Input: \"Coffee\", \"Coffee\" -> Output: True"
   ]
  },
  {
   "cell_type": "code",
   "execution_count": 10,
   "metadata": {},
   "outputs": [
    {
     "name": "stdout",
     "output_type": "stream",
     "text": [
      "False\n",
      "True\n"
     ]
    }
   ],
   "source": [
    "def compareStrings(s1, s2):\n",
    "    if compareLength(s1,s2) == False:                  # compareLength()を用いてFalseが返された場合は, Falseを返す\n",
    "        return False\n",
    "    else:                       # compareLength()を用いてTrueが返された場合は, 一文字ずつ比べていく\n",
    "        for i in range(len(s1)):\n",
    "            if s1[i] != s2[i]:\n",
    "                return False        # 同じインデックスの文字が異なる場合は, Falseを返す\n",
    "        return True           # Falseが返されなかった場合は, Trueを返す\n",
    "\n",
    "print(compareStrings(\"dog\",\"cat\"))\n",
    "print(compareStrings(\"Coffee\", \"Coffee\"))"
   ]
  },
  {
   "cell_type": "markdown",
   "metadata": {},
   "source": [
    "### Problem 7\n",
    "\n",
    "forループを用いて, *1*から*N*までの整数をそれぞれ要素としたリストを返す関数 **countFor()** が以下のように定義されています.\n",
    "\n",
    "```\n",
    "def countFor(n):\n",
    "    l = []\n",
    "    for i in range(1, n+1):\n",
    "        l.append(i)\n",
    "    return l\n",
    "```\n",
    "\n",
    "以下のコードを穴埋めして, **countFor()** をwhileループを用いて書き直した関数 **countWhile()** を定義してください.    \n",
    "*`#`*を外すことによって, コードが有効になります.  \n",
    "\n",
    "e.g.)  \n",
    "Input: 5 -> Output: [1, 2, 3, 4, 5]  \n",
    "Input: 0 -> Output: []"
   ]
  },
  {
   "cell_type": "code",
   "execution_count": 11,
   "metadata": {},
   "outputs": [
    {
     "name": "stdout",
     "output_type": "stream",
     "text": [
      "[1, 2, 3, 4, 5]\n",
      "[]\n"
     ]
    }
   ],
   "source": [
    "def countWhile(n):\n",
    "    l = []            # 整数を格納するリストを初期化する\n",
    "    i = 1            # whileループ内でアップデートする変数を初期化する\n",
    "    while i <= n:     # iがnよりも小さいまたは同値の場合のみ, while以下を実行する\n",
    "        l.append(i)        # lに整数をappendする\n",
    "        i += 1       # 変数をアップデートする\n",
    "    return l\n",
    "\n",
    "print(countWhile(5))\n",
    "print(countWhile(0))"
   ]
  },
  {
   "cell_type": "code",
   "execution_count": null,
   "metadata": {},
   "outputs": [],
   "source": []
  }
 ],
 "metadata": {
  "kernelspec": {
   "display_name": "Python 3",
   "language": "python",
   "name": "python3"
  },
  "language_info": {
   "codemirror_mode": {
    "name": "ipython",
    "version": 3
   },
   "file_extension": ".py",
   "mimetype": "text/x-python",
   "name": "python",
   "nbconvert_exporter": "python",
   "pygments_lexer": "ipython3",
   "version": "3.7.4"
  }
 },
 "nbformat": 4,
 "nbformat_minor": 2
}
