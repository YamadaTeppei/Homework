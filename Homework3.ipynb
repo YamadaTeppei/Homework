{
 "cells": [
  {
   "cell_type": "markdown",
   "metadata": {},
   "source": [
    "# Homework 3\n",
    "\n",
    "#### トピック: 前回までの復習(関数, 条件文, ループ, リスト, 文字列など), タプル, セット, ディクショナリー, ファイル入出力\n",
    "\n",
    "### Problem 1\n",
    "\n",
    "N桁までの完全数(Perfect Number)をリストとして返す関数 **findPerfectNum()** を定義してください.  \n",
    "\n",
    "e.g.)  \n",
    "Input: 3 - Output: [6, 28, 496]"
   ]
  },
  {
   "cell_type": "code",
   "execution_count": 1,
   "metadata": {},
   "outputs": [
    {
     "name": "stdout",
     "output_type": "stream",
     "text": [
      "[6, 28, 496]\n"
     ]
    }
   ],
   "source": [
    "def findPerfectNum(n):\n",
    "    a = []\n",
    "    n = 10 ** n - 1\n",
    "    for i in range(1,n):\n",
    "        j = 1\n",
    "        k = 0\n",
    "        while j < i:\n",
    "            if i%j == 0:\n",
    "                k += j\n",
    "            j += 1\n",
    "        if k == i:\n",
    "            a.append(i)\n",
    "    return a\n",
    "print(findPerfectNum(3))    "
   ]
  },
  {
   "cell_type": "markdown",
   "metadata": {},
   "source": [
    "### Problem 2\n",
    "\n",
    "複数のリストを格納するタプル(e.g. ([1, 2], [3, 4]))が与えられたときに, 各リストの長さをキーとして持ち, そのリスト自体を値として持つディクショナリーを返す関数 **listToDict()** を定義してください.  \n",
    "ただし, 与えられたタプルが空の場合には空のディクショナリーを返します.  \n",
    "\n",
    "e.g.)  \n",
    "Input: ([1, 6], [3, 5, 8, 1, 0], [2]) - Output: {2: [1, 6], 5: [3, 5, 8, 1, 0], 1: [2]}  \n",
    "Input: () - Output: {}"
   ]
  },
  {
   "cell_type": "code",
   "execution_count": 2,
   "metadata": {},
   "outputs": [
    {
     "name": "stdout",
     "output_type": "stream",
     "text": [
      "{2: [1, 6], 5: [3, 5, 8, 1, 0], 1: [2]}\n",
      "{}\n"
     ]
    }
   ],
   "source": [
    "def listToDict(tuplse):\n",
    "    Dict = {}\n",
    "    for i in tuplse:\n",
    "        Dict[len(i)] = i\n",
    "    return Dict\n",
    "    \n",
    "print(listToDict(([1,6],[3,5,8,1,0],[2])))\n",
    "print(listToDict(()))"
   ]
  },
  {
   "cell_type": "markdown",
   "metadata": {},
   "source": [
    "### Problem 3 (Two Sums)\n",
    "\n",
    "ある整数のリストと一つの値(ターゲット)が与えられたとき, 足すとターゲットと等しくなるようなリスト内の2つの整数の組み合わせのインデックスを求めてください. そのような整数の組み合わせが複数ある場合は任意の一組のみを返し, 組み合わせが存在しない場合は, Falseを返してください.  \n",
    "\n",
    "e.g.)  \n",
    "Input: [2, 7, 11, 15], 9 - Output: [0, 1]"
   ]
  },
  {
   "cell_type": "code",
   "execution_count": 3,
   "metadata": {},
   "outputs": [
    {
     "name": "stdout",
     "output_type": "stream",
     "text": [
      "[0, 1]\n"
     ]
    }
   ],
   "source": [
    "def twoSum(a_list,target):\n",
    "    b_list = []\n",
    "    for i in range(len(a_list)):\n",
    "        j = i + 1\n",
    "        while j < len(a_list):\n",
    "            if a_list[i]+a_list[j] == target:\n",
    "                b_list.append([i,j])\n",
    "                j += 1\n",
    "            else:\n",
    "                j += 1\n",
    "    if b_list == []:\n",
    "        return False\n",
    "    else:\n",
    "        return b_list[0]\n",
    "            \n",
    "print(twoSum([2,7,11,15],9))"
   ]
  },
  {
   "cell_type": "markdown",
   "metadata": {},
   "source": [
    "### Problem 4 (Three Sums)\n",
    "\n",
    "ある整数のリストが与えられたとき, 足すと0になるようなリスト内の3つの整数の組み合わせを全て列挙してください. そのような組み合わせが複数ある場合には組み合わせのリストを, 組み合わせが存在しない場合にはFalseを返してください.  \n",
    "\n",
    "e.g.)  \n",
    "Input: [-1, 0, 1, 2, -1, -4] - Output: [[-1, 0, 1], [-1, -1, 2]]  \n",
    "Input: [1, 3, -2, 4] - Output: False"
   ]
  },
  {
   "cell_type": "code",
   "execution_count": 4,
   "metadata": {},
   "outputs": [
    {
     "name": "stdout",
     "output_type": "stream",
     "text": [
      "[[-1, 0, 1], [-1, 2, -1], [0, 1, -1]]\n",
      "False\n"
     ]
    }
   ],
   "source": [
    "def threeSum(a_list):\n",
    "    b_list = []\n",
    "    for i in range(len(a_list)):\n",
    "        j = i + 1\n",
    "        while j < len(a_list):\n",
    "            k = j + 1 \n",
    "            while k < len(a_list):\n",
    "                if a_list[i]+a_list[j]+a_list[k] == 0:\n",
    "                    b_list.append([a_list[i],a_list[j],a_list[k]])\n",
    "                    k += 1\n",
    "                else:\n",
    "                    k += 1\n",
    "            j += 1\n",
    "    if b_list == []:\n",
    "        return False\n",
    "    else:\n",
    "        return b_list\n",
    "print(threeSum([-1,0,1,2,-1,-4]))\n",
    "print(threeSum([1,3,-2,4]))"
   ]
  },
  {
   "cell_type": "markdown",
   "metadata": {},
   "source": [
    "### Problem 5 (Valid Parenthesis)\n",
    "\n",
    "カッコの並びが正しいかどうかを判断する関数 **isValidParenthesis()** を定義してください.  \n",
    "有効なカッコの組み合わせであるためには, 始まりのカッコと終わりのカッコの種類は一致していなければならず, またカッコの数も一致していなければなりません。  \n",
    "\n",
    "e.g.)  \n",
    "Input: () - Output: True  \n",
    "Input: [({})] - Output: True  \n",
    "Input: [(]) - Output: False  \n",
    "Input: {()[} - Output: False"
   ]
  },
  {
   "cell_type": "code",
   "execution_count": 3,
   "metadata": {},
   "outputs": [
    {
     "name": "stdout",
     "output_type": "stream",
     "text": [
      "True\n",
      "True\n",
      "False\n",
      "False\n",
      "True\n"
     ]
    }
   ],
   "source": [
    "def isValidParenthesis(a):\n",
    "    i = 0\n",
    "    j = -1\n",
    "    while i < len(a)/2:\n",
    "        if a[i] == \"(\" and a[j] == \")\":\n",
    "            pass\n",
    "        elif a[i] == \"[\" and a[j] == \"]\":\n",
    "            pass\n",
    "        elif a[i] == \"{\" and a[j] == \"}\":\n",
    "            pass\n",
    "        else:\n",
    "            return False\n",
    "        i += 1\n",
    "        j -= 1\n",
    "    return True\n",
    "        \n",
    "print(isValidParenthesis(\"()\"))\n",
    "print(isValidParenthesis(\"{[]}\"))\n",
    "print(isValidParenthesis(\"[(])\"))\n",
    "print(isValidParenthesis(\"{()[}\"))\n",
    "print(isValidParenthesis(\"\"))"
   ]
  },
  {
   "cell_type": "markdown",
   "metadata": {},
   "source": [
    "### Problem 6 (Merging Two Sorted Lists)\n",
    "\n",
    "2つのソート済みのリストが与えられたときに, それらを1つのソートされたリストにする関数 **mergeSortedLists()** を定義してください. ただし, Pythonの組み込み関数である*sort()*や*sorted()*を**用いてはなりません**.  \n",
    "\n",
    "e.g.)  \n",
    "Input: [1, 2, 5], [1, 3, 4] - Output: [1, 1, 2, 3, 4, 5]  "
   ]
  },
  {
   "cell_type": "code",
   "execution_count": 6,
   "metadata": {},
   "outputs": [
    {
     "name": "stdout",
     "output_type": "stream",
     "text": [
      "[1, 1, 2, 3, 4, 5]\n"
     ]
    }
   ],
   "source": [
    "def mergeSortedLists(a,b):\n",
    "    c = []\n",
    "    j = 0\n",
    "    i = 0\n",
    "    while i < len(a) and j < len(b):\n",
    "        if a[i] <= b[j]:\n",
    "            c.append(a[i])\n",
    "            i += 1\n",
    "        else:\n",
    "            c.append(b[j])\n",
    "            j += 1\n",
    "    c += a[i:] + b[j:]\n",
    "    return c\n",
    "print(mergeSortedLists([1,2,5],[1,3,4]))"
   ]
  },
  {
   "cell_type": "markdown",
   "metadata": {},
   "source": [
    "### Problem 7\n",
    "\n",
    "与えられた金額(予算)で買える品物の最高合計金額を計算するプログラムを作成してください. ただし, 入力値は`prices.txt`とします.  \n",
    "テキストファイルにはサンプルの入力値が記されており, フォーマットは以下の通りとなります.  \n",
    "\n",
    "1行目: タイトル  \n",
    "2行目: 空行  \n",
    "3行目以降: X(予算) --> 品物数 --> 品物の名前とその金額  \n",
    "\n",
    "また, 各品物は最大2つまで買うことができるとし, サンプルの入力値は空行で分けられているとします (詳しくはファイルを参照).  \n",
    "プログラムの動作確認のため, 自分でテストコードを付け足してもよいとしますが, まずは元からある入力値のみで動くプログラムを作成することを目標にしてください.  \n",
    "\n",
    "e.g.)  \n",
    "Input (`prices.txt`より抜粋):  \n",
    "\n",
    "1000    <-- 予算  \n",
    "3       <-- 品物数  \n",
    "A 450   <-- 品物の名前と値段   \n",
    "B 250   <-- 品物の名前と値段  \n",
    "C 500   <-- 品物の名前と値段  \n",
    "\n",
    "Output:  \n",
    "\n",
    "1000 <-- つまり, Cを2つ買った場合"
   ]
  },
  {
   "cell_type": "code",
   "execution_count": 77,
   "metadata": {},
   "outputs": [
    {
     "name": "stdout",
     "output_type": "stream",
     "text": [
      "[1000, 2500, 1500] \n",
      " [3, 4, 5] \n",
      " {'A': 450, 'B': 250, 'C': 500, 'D': 650, 'E': 850, 'F': 450, 'G': 1050, 'H': 750, 'I': 800, 'J': 350, 'K': 600, 'L': 450} \n",
      " ['A', 'B', 'C', 'D', 'E', 'F', 'G', 'H', 'I', 'J', 'K', 'L'] \n",
      "\n",
      "None\n"
     ]
    }
   ],
   "source": [
    "def a(name):\n",
    "    a_list = []\n",
    "    b_list = []\n",
    "    c_dict = {}\n",
    "    c_list = []\n",
    "    with open(name) as f:\n",
    "        g = f.read()\n",
    "    h = g.split(\"\\n\")\n",
    "    h.pop(0)\n",
    "    h.pop(0)\n",
    "                        #ここから\n",
    "    h.remove(\"\") \n",
    "    h.remove(\"\")\n",
    "                        #ここまでを変えたい\n",
    "    i = 1\n",
    "    while i < len(h):\n",
    "        a_list.append(h[i-1])\n",
    "        h[i] = int(h[i])\n",
    "        b_list.append(h[i])\n",
    "        for j in range(h[i]):\n",
    "            i += 1\n",
    "            c_dict[h[i][0]] = h[i][2:]\n",
    "            c_list.append(h[i][0])\n",
    "        i += 2\n",
    "    a_list = list(map(int,a_list))\n",
    "    for k in c_dict:\n",
    "        c_dict[k] = int(c_dict[k])\n",
    "    print(a_list,\"\\n\",b_list,\"\\n\",c_dict,\"\\n\",c_list,\"\\n\")\n",
    "    y = 0\n",
    "    for x in range(len(a_list)):\n",
    "        while y < b_list[x]:\n",
    "            z = c_dict[c_list[y]]+\n",
    "            \n",
    "    return \n",
    "print(a(\"prices.txt\"))\n",
    "        \n",
    "    "
   ]
  }
 ],
 "metadata": {
  "kernelspec": {
   "display_name": "Python 3",
   "language": "python",
   "name": "python3"
  },
  "language_info": {
   "codemirror_mode": {
    "name": "ipython",
    "version": 3
   },
   "file_extension": ".py",
   "mimetype": "text/x-python",
   "name": "python",
   "nbconvert_exporter": "python",
   "pygments_lexer": "ipython3",
   "version": "3.7.4"
  }
 },
 "nbformat": 4,
 "nbformat_minor": 2
}
