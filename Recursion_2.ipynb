{
 "cells": [
  {
   "cell_type": "markdown",
   "metadata": {},
   "source": [
    "# Recursion Practice Problems (2)"
   ]
  },
  {
   "cell_type": "markdown",
   "metadata": {},
   "source": [
    "## Problem 1\n",
    "\n",
    "リストが与えられたとき, そのリストの長さを再帰的に計算して返す関数 `findLenWithRecursion` を定義してください.  \n",
    "\n",
    "e.g.)   \n",
    "Input: [1, 2, 3, 4, 5]  \n",
    "Output: 5"
   ]
  },
  {
   "cell_type": "code",
   "execution_count": 1,
   "metadata": {},
   "outputs": [],
   "source": [
    "def findLenWithRecursion(List):\n",
    "    if List == []:\n",
    "        return 0\n",
    "    else:\n",
    "        return 1 + findLenWithRecursion(List[1:]) \n",
    "    "
   ]
  },
  {
   "cell_type": "markdown",
   "metadata": {},
   "source": [
    "### Driver Code\n",
    "\n",
    "以下のセルを実行し, 上記で定義した関数をテストしてみましょう. "
   ]
  },
  {
   "cell_type": "code",
   "execution_count": 19,
   "metadata": {},
   "outputs": [
    {
     "name": "stdout",
     "output_type": "stream",
     "text": [
      "Length of ls1: 5\n",
      "Length of ls2: 0\n"
     ]
    }
   ],
   "source": [
    "ls1 = [1, 2, 3, 4, 5]\n",
    "ls2 = []\n",
    "print('Length of ls1:', findLenWithRecursion(ls1))\n",
    "print('Length of ls2:', findLenWithRecursion(ls2))"
   ]
  },
  {
   "cell_type": "markdown",
   "metadata": {},
   "source": [
    "## Problem 2\n",
    "\n",
    "整数のリストが与えられたとき, そのリストの最大値を再帰的に求める関数 `findMaxWithRecursion` を定義してください.  \n",
    "\n",
    "e.g.)    \n",
    "Input: [1, 8, 5, 2, 1, 10, 9]  \n",
    "Output: 10"
   ]
  },
  {
   "cell_type": "code",
   "execution_count": 2,
   "metadata": {},
   "outputs": [],
   "source": [
    "def findMaxWithRecursion(List):\n",
    "    if List == []:\n",
    "        return 0\n",
    "    else:\n",
    "        return List[0] if List[0] > findMaxWithRecursion(List[1:]) else findMaxWithRecursion(List[1:])"
   ]
  },
  {
   "cell_type": "markdown",
   "metadata": {},
   "source": [
    "### Driver Code\n",
    "\n",
    "以下のセルを実行し, 上記で定義した関数をテストしてみましょう. "
   ]
  },
  {
   "cell_type": "code",
   "execution_count": 21,
   "metadata": {},
   "outputs": [
    {
     "name": "stdout",
     "output_type": "stream",
     "text": [
      "Max of ls1: 10\n",
      "Max of ls2: 3\n",
      "Max of ls3: 0\n"
     ]
    }
   ],
   "source": [
    "ls1 = [1, 8, 5, 2, 1, 10, 9] \n",
    "ls2 = [-1, 0, 3, 2, -2, -1, 0]\n",
    "ls3 = []\n",
    "print('Max of ls1:', findMaxWithRecursion(ls1))\n",
    "print('Max of ls2:', findMaxWithRecursion(ls2))\n",
    "print('Max of ls3:', findMaxWithRecursion(ls3))"
   ]
  },
  {
   "cell_type": "markdown",
   "metadata": {},
   "source": [
    "## Problem 3\n",
    "\n",
    "リストが与えられたとき, そのリストの要素の全ての並び順 (i.e. 順列) を列挙する関数 `printPermutation()` を定義してください.  \n",
    "\n",
    "e.g.)  \n",
    "Input: [1, 2, 3]  \n",
    "Output: [1, 2, 3], [1, 3, 2], [2, 1, 3], [2, 3, 1], [3, 1, 2], [3, 2, 1]"
   ]
  },
  {
   "cell_type": "code",
   "execution_count": 32,
   "metadata": {},
   "outputs": [],
   "source": [
    "def printPermutation(lst,n,m):\n",
    "    if n == m:\n",
    "        return \n",
    "    else:\n",
    "        for i in lst:\n",
    "            \n",
    "        return lst "
   ]
  },
  {
   "cell_type": "markdown",
   "metadata": {},
   "source": [
    "### Driver Code\n",
    "\n",
    "以下のセルを実行し, 上記で定義した関数をテストしてみましょう. "
   ]
  },
  {
   "cell_type": "code",
   "execution_count": 34,
   "metadata": {},
   "outputs": [
    {
     "name": "stdout",
     "output_type": "stream",
     "text": [
      "Permutaton of [1, 2, 3]\n",
      "\n",
      "Permutaton of [1, 2, 3, 4]\n"
     ]
    }
   ],
   "source": [
    "ls1 = [1,2,3]\n",
    "ls2 = [1,2,3,4]\n",
    "print('Permutaton of [1, 2, 3]')\n",
    "printPermutation(ls1, 0, len(ls1)-1)\n",
    "print()\n",
    "print('Permutaton of [1, 2, 3, 4]')\n",
    "printPermutation(ls2, 0, len(ls2)-1)"
   ]
  },
  {
   "cell_type": "code",
   "execution_count": null,
   "metadata": {},
   "outputs": [],
   "source": []
  }
 ],
 "metadata": {
  "kernelspec": {
   "display_name": "Python 3",
   "language": "python",
   "name": "python3"
  },
  "language_info": {
   "codemirror_mode": {
    "name": "ipython",
    "version": 3
   },
   "file_extension": ".py",
   "mimetype": "text/x-python",
   "name": "python",
   "nbconvert_exporter": "python",
   "pygments_lexer": "ipython3",
   "version": "3.7.4"
  }
 },
 "nbformat": 4,
 "nbformat_minor": 2
}
